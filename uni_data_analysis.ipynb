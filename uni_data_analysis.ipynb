{
 "cells": [
  {
   "cell_type": "markdown",
   "metadata": {},
   "source": [
    "## UAIR Application - Work Sample\n",
    "### Anonymized Student Data obtained from [Open University Learning Analytics](https://analyse.kmi.open.ac.uk/open_dataset) "
   ]
  },
  {
   "cell_type": "code",
   "execution_count": 1,
   "metadata": {},
   "outputs": [],
   "source": [
    "import csv\n",
    "import numpy as np\n",
    "import pandas as pd\n",
    "import seaborn as sns\n",
    "import sqlite3\n",
    "\n",
    "import matplotlib.pyplot as plt \n",
    "%matplotlib inline"
   ]
  },
  {
   "cell_type": "code",
   "execution_count": 2,
   "metadata": {},
   "outputs": [],
   "source": [
    "conn = sqlite3.connect(':memory:')\n",
    "c = conn.cursor()"
   ]
  },
  {
   "cell_type": "code",
   "execution_count": 8,
   "metadata": {},
   "outputs": [],
   "source": [
    "# 42"
   ]
  },
  {
   "cell_type": "markdown",
   "metadata": {},
   "source": [
    "### Test using pandas to convert csv files to SQL"
   ]
  },
  {
   "cell_type": "code",
   "execution_count": 3,
   "metadata": {},
   "outputs": [
    {
     "data": {
      "text/html": [
       "<div>\n",
       "<style scoped>\n",
       "    .dataframe tbody tr th:only-of-type {\n",
       "        vertical-align: middle;\n",
       "    }\n",
       "\n",
       "    .dataframe tbody tr th {\n",
       "        vertical-align: top;\n",
       "    }\n",
       "\n",
       "    .dataframe thead th {\n",
       "        text-align: right;\n",
       "    }\n",
       "</style>\n",
       "<table border=\"1\" class=\"dataframe\">\n",
       "  <thead>\n",
       "    <tr style=\"text-align: right;\">\n",
       "      <th></th>\n",
       "      <th>code_module</th>\n",
       "      <th>code_presentation</th>\n",
       "      <th>module_presentation_length</th>\n",
       "    </tr>\n",
       "  </thead>\n",
       "  <tbody>\n",
       "    <tr>\n",
       "      <th>0</th>\n",
       "      <td>AAA</td>\n",
       "      <td>2013J</td>\n",
       "      <td>268</td>\n",
       "    </tr>\n",
       "    <tr>\n",
       "      <th>1</th>\n",
       "      <td>AAA</td>\n",
       "      <td>2014J</td>\n",
       "      <td>269</td>\n",
       "    </tr>\n",
       "    <tr>\n",
       "      <th>2</th>\n",
       "      <td>BBB</td>\n",
       "      <td>2013J</td>\n",
       "      <td>268</td>\n",
       "    </tr>\n",
       "    <tr>\n",
       "      <th>3</th>\n",
       "      <td>BBB</td>\n",
       "      <td>2014J</td>\n",
       "      <td>262</td>\n",
       "    </tr>\n",
       "    <tr>\n",
       "      <th>4</th>\n",
       "      <td>BBB</td>\n",
       "      <td>2013B</td>\n",
       "      <td>240</td>\n",
       "    </tr>\n",
       "  </tbody>\n",
       "</table>\n",
       "</div>"
      ],
      "text/plain": [
       "  code_module code_presentation  module_presentation_length\n",
       "0         AAA             2013J                         268\n",
       "1         AAA             2014J                         269\n",
       "2         BBB             2013J                         268\n",
       "3         BBB             2014J                         262\n",
       "4         BBB             2013B                         240"
      ]
     },
     "execution_count": 3,
     "metadata": {},
     "output_type": "execute_result"
    }
   ],
   "source": [
    "courses_df = pd.read_csv('data/courses.csv')\n",
    "courses_df.head()"
   ]
  },
  {
   "cell_type": "code",
   "execution_count": 5,
   "metadata": {},
   "outputs": [],
   "source": [
    "courses_df.to_sql('courses', conn, \"'if_exists'='append'\", index=False)"
   ]
  },
  {
   "cell_type": "code",
   "execution_count": 6,
   "metadata": {},
   "outputs": [
    {
     "data": {
      "text/plain": [
       "[('AAA', '2013J', 268),\n",
       " ('AAA', '2014J', 269),\n",
       " ('BBB', '2013J', 268),\n",
       " ('BBB', '2014J', 262),\n",
       " ('BBB', '2013B', 240),\n",
       " ('BBB', '2014B', 234),\n",
       " ('CCC', '2014J', 269),\n",
       " ('CCC', '2014B', 241),\n",
       " ('DDD', '2013J', 261),\n",
       " ('DDD', '2014J', 262),\n",
       " ('DDD', '2013B', 240),\n",
       " ('DDD', '2014B', 241),\n",
       " ('EEE', '2013J', 268),\n",
       " ('EEE', '2014J', 269),\n",
       " ('EEE', '2014B', 241),\n",
       " ('FFF', '2013J', 268),\n",
       " ('FFF', '2014J', 269),\n",
       " ('FFF', '2013B', 240),\n",
       " ('FFF', '2014B', 241),\n",
       " ('GGG', '2013J', 261),\n",
       " ('GGG', '2014J', 269),\n",
       " ('GGG', '2014B', 241)]"
      ]
     },
     "execution_count": 6,
     "metadata": {},
     "output_type": "execute_result"
    }
   ],
   "source": [
    "c.execute('SELECT * FROM courses').fetchall()"
   ]
  },
  {
   "cell_type": "code",
   "execution_count": null,
   "metadata": {},
   "outputs": [],
   "source": []
  },
  {
   "cell_type": "code",
   "execution_count": null,
   "metadata": {},
   "outputs": [],
   "source": []
  },
  {
   "cell_type": "code",
   "execution_count": null,
   "metadata": {},
   "outputs": [],
   "source": []
  },
  {
   "cell_type": "code",
   "execution_count": null,
   "metadata": {},
   "outputs": [],
   "source": []
  },
  {
   "cell_type": "code",
   "execution_count": null,
   "metadata": {},
   "outputs": [],
   "source": []
  },
  {
   "cell_type": "code",
   "execution_count": null,
   "metadata": {},
   "outputs": [],
   "source": []
  },
  {
   "cell_type": "code",
   "execution_count": null,
   "metadata": {},
   "outputs": [],
   "source": []
  },
  {
   "cell_type": "code",
   "execution_count": null,
   "metadata": {},
   "outputs": [],
   "source": []
  },
  {
   "cell_type": "code",
   "execution_count": null,
   "metadata": {},
   "outputs": [],
   "source": []
  },
  {
   "cell_type": "code",
   "execution_count": null,
   "metadata": {},
   "outputs": [],
   "source": []
  },
  {
   "cell_type": "code",
   "execution_count": null,
   "metadata": {},
   "outputs": [],
   "source": []
  },
  {
   "cell_type": "markdown",
   "metadata": {},
   "source": [
    "### Non-Pandas Way"
   ]
  },
  {
   "cell_type": "code",
   "execution_count": 8,
   "metadata": {},
   "outputs": [],
   "source": [
    "# this works, but the pandas option is way better because you don't have to manually input column names\n",
    "\n",
    "# open in-memory database \n",
    "\n",
    "# con = sqlite3.connect(\":memory:\")\n",
    "# cur = con.cursor()\n",
    "# cur.execute(\"CREATE TABLE courses (code_module, code_presentation, module_presentation_length);\")\n",
    "\n",
    "# with open('data/courses.csv','rb') as fin:\n",
    "#     dr = csv.DictReader(fin)\n",
    "#     # dicts = ({'code_module': line[0], 'code_presentation': line[1], 'module_presentation_length': line[2]} for line in dr)\n",
    "#     to_db = ((i['code_module'], i['code_presentation'], i['module_presentation_length']) for i in dicts)\n",
    "\n",
    "# cur.executemany(\"INSERT INTO courses (code_module, code_presentation, module_presentation_length) VALUES (?, ?, ?);\", to_db)\n",
    "# con.commit()\n",
    "\n",
    "# import csv, sqlite3\n",
    "\n",
    "# con = sqlite3.connect(\":memory:\")\n",
    "# cur = con.cursor()\n",
    "# cur.execute(\"CREATE TABLE t (col1, col2);\") # use your column names here\n",
    "\n",
    "# with open('data.csv','rb') as fin: # `with` statement available in 2.5+\n",
    "#     # csv.DictReader uses first line in file for column headings by default\n",
    "#     dr = csv.DictReader(fin) # comma is default delimiter\n",
    "#     to_db = [(i['col1'], i['col2']) for i in dr]\n",
    "\n",
    "# cur.executemany(\"INSERT INTO t (col1, col2) VALUES (?, ?);\", to_db)\n",
    "# con.commit()\n",
    "# con.close()"
   ]
  },
  {
   "cell_type": "code",
   "execution_count": 6,
   "metadata": {},
   "outputs": [],
   "source": [
    "# con.close()"
   ]
  },
  {
   "cell_type": "code",
   "execution_count": 7,
   "metadata": {},
   "outputs": [],
   "source": [
    "# this code shows that the table courses has been created\n",
    "# cur.execute(\"SELECT name FROM sqlite_master WHERE type = 'table';\").fetchall()"
   ]
  },
  {
   "cell_type": "code",
   "execution_count": null,
   "metadata": {},
   "outputs": [],
   "source": []
  }
 ],
 "metadata": {
  "kernelspec": {
   "display_name": "Python 3",
   "language": "python",
   "name": "python3"
  },
  "language_info": {
   "codemirror_mode": {
    "name": "ipython",
    "version": 3
   },
   "file_extension": ".py",
   "mimetype": "text/x-python",
   "name": "python",
   "nbconvert_exporter": "python",
   "pygments_lexer": "ipython3",
   "version": "3.6.8"
  }
 },
 "nbformat": 4,
 "nbformat_minor": 2
}
