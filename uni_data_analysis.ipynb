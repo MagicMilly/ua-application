{
 "cells": [
  {
   "cell_type": "markdown",
   "metadata": {},
   "source": [
    "## University of Arizona - Work Sample\n",
    "### Anonymized Student Data obtained from [Open University Learning Analytics](https://analyse.kmi.open.ac.uk/open_dataset) \n",
    "#### (Database schema and descriptions can be found at that site)"
   ]
  },
  {
   "cell_type": "code",
   "execution_count": 1,
   "metadata": {},
   "outputs": [],
   "source": [
    "import csv\n",
    "import numpy as np\n",
    "import pandas as pd\n",
    "import seaborn as sns\n",
    "import sqlite3\n",
    "\n",
    "import matplotlib.pyplot as plt \n",
    "%matplotlib inline"
   ]
  },
  {
   "cell_type": "code",
   "execution_count": 2,
   "metadata": {},
   "outputs": [],
   "source": [
    "# for in-memory database\n",
    "\n",
    "# conn = sqlite3.connect(':memory:')\n",
    "# c = conn.cursor()"
   ]
  },
  {
   "cell_type": "markdown",
   "metadata": {},
   "source": [
    "#### Connect to university.db"
   ]
  },
  {
   "cell_type": "code",
   "execution_count": 6,
   "metadata": {},
   "outputs": [],
   "source": [
    "conn = sqlite3.connect('university.db')\n",
    "c = conn.cursor()"
   ]
  },
  {
   "cell_type": "markdown",
   "metadata": {},
   "source": [
    "## 0. Obtain Data & Convert to SQL Database - Do Not Run Again"
   ]
  },
  {
   "cell_type": "markdown",
   "metadata": {},
   "source": [
    "### Test using pandas to convert csv files to SQL"
   ]
  },
  {
   "cell_type": "code",
   "execution_count": 2,
   "metadata": {},
   "outputs": [
    {
     "data": {
      "text/html": [
       "<div>\n",
       "<style scoped>\n",
       "    .dataframe tbody tr th:only-of-type {\n",
       "        vertical-align: middle;\n",
       "    }\n",
       "\n",
       "    .dataframe tbody tr th {\n",
       "        vertical-align: top;\n",
       "    }\n",
       "\n",
       "    .dataframe thead th {\n",
       "        text-align: right;\n",
       "    }\n",
       "</style>\n",
       "<table border=\"1\" class=\"dataframe\">\n",
       "  <thead>\n",
       "    <tr style=\"text-align: right;\">\n",
       "      <th></th>\n",
       "      <th>code_module</th>\n",
       "      <th>code_presentation</th>\n",
       "      <th>module_presentation_length</th>\n",
       "    </tr>\n",
       "  </thead>\n",
       "  <tbody>\n",
       "    <tr>\n",
       "      <th>0</th>\n",
       "      <td>AAA</td>\n",
       "      <td>2013J</td>\n",
       "      <td>268</td>\n",
       "    </tr>\n",
       "    <tr>\n",
       "      <th>1</th>\n",
       "      <td>AAA</td>\n",
       "      <td>2014J</td>\n",
       "      <td>269</td>\n",
       "    </tr>\n",
       "    <tr>\n",
       "      <th>2</th>\n",
       "      <td>BBB</td>\n",
       "      <td>2013J</td>\n",
       "      <td>268</td>\n",
       "    </tr>\n",
       "    <tr>\n",
       "      <th>3</th>\n",
       "      <td>BBB</td>\n",
       "      <td>2014J</td>\n",
       "      <td>262</td>\n",
       "    </tr>\n",
       "    <tr>\n",
       "      <th>4</th>\n",
       "      <td>BBB</td>\n",
       "      <td>2013B</td>\n",
       "      <td>240</td>\n",
       "    </tr>\n",
       "  </tbody>\n",
       "</table>\n",
       "</div>"
      ],
      "text/plain": [
       "  code_module code_presentation  module_presentation_length\n",
       "0         AAA             2013J                         268\n",
       "1         AAA             2014J                         269\n",
       "2         BBB             2013J                         268\n",
       "3         BBB             2014J                         262\n",
       "4         BBB             2013B                         240"
      ]
     },
     "execution_count": 2,
     "metadata": {},
     "output_type": "execute_result"
    }
   ],
   "source": [
    "courses_df = pd.read_csv('data/courses.csv')\n",
    "courses_df.head()"
   ]
  },
  {
   "cell_type": "code",
   "execution_count": 3,
   "metadata": {},
   "outputs": [],
   "source": [
    "# courses_df.to_sql('courses', conn, \"'if_exists'='append'\", index=False)"
   ]
  },
  {
   "cell_type": "code",
   "execution_count": 4,
   "metadata": {},
   "outputs": [],
   "source": [
    "# c.execute('SELECT * FROM courses').fetchall()"
   ]
  },
  {
   "cell_type": "markdown",
   "metadata": {},
   "source": [
    "### Test with new database"
   ]
  },
  {
   "cell_type": "code",
   "execution_count": 5,
   "metadata": {},
   "outputs": [],
   "source": [
    "# c.close()"
   ]
  },
  {
   "cell_type": "code",
   "execution_count": 6,
   "metadata": {},
   "outputs": [],
   "source": [
    "conn = sqlite3.connect('university.db')\n",
    "c = conn.cursor()"
   ]
  },
  {
   "cell_type": "code",
   "execution_count": 7,
   "metadata": {},
   "outputs": [],
   "source": [
    "# assessments_df = pd.read_csv('data/assessments.csv')\n",
    "# assessments_df.head()"
   ]
  },
  {
   "cell_type": "code",
   "execution_count": 8,
   "metadata": {},
   "outputs": [],
   "source": [
    "# assessments_df.to_sql('assessments', conn, \"'if_exists'='append'\", index=False)"
   ]
  },
  {
   "cell_type": "code",
   "execution_count": 9,
   "metadata": {},
   "outputs": [
    {
     "data": {
      "text/plain": [
       "[('assessments',),\n",
       " ('courses',),\n",
       " ('student_assessments',),\n",
       " ('student_info',),\n",
       " ('student_registration',),\n",
       " ('student_vle',),\n",
       " ('vle',)]"
      ]
     },
     "execution_count": 9,
     "metadata": {},
     "output_type": "execute_result"
    }
   ],
   "source": [
    "# Check to see if assessments table present within university.db\n",
    "\n",
    "c.execute(\"SELECT name FROM sqlite_master WHERE type = 'table';\").fetchall()"
   ]
  },
  {
   "cell_type": "code",
   "execution_count": 11,
   "metadata": {},
   "outputs": [],
   "source": [
    "# manually read-in remaining csv files, I know this is ugly\n",
    "\n",
    "courses_df = pd.read_csv('data/courses.csv')\n",
    "student_assessment_df = pd.read_csv('data/studentAssessment.csv')\n",
    "student_info_df = pd.read_csv('data/studentInfo.csv')\n",
    "student_registration_df = pd.read_csv('data/studentRegistration.csv')\n",
    "student_vle_df = pd.read_csv('data/studentVle.csv')\n",
    "vle_df = pd.read_csv('data/vle.csv')"
   ]
  },
  {
   "cell_type": "markdown",
   "metadata": {},
   "source": [
    "#### Function to add dataframe to SQL database"
   ]
  },
  {
   "cell_type": "code",
   "execution_count": 16,
   "metadata": {},
   "outputs": [],
   "source": [
    "def add_df_to_db(df, table_name):\n",
    "    \n",
    "    df.to_sql(table_name, conn, \"'if_exists'='append'\", index=False)"
   ]
  },
  {
   "cell_type": "code",
   "execution_count": 24,
   "metadata": {},
   "outputs": [],
   "source": [
    "# okay, figuring out the for-loops is going to take longer than doing it manually, here is some more ugliness to enjoy\n",
    "\n",
    "add_df_to_db(courses_df, 'courses')\n",
    "add_df_to_db(student_assessment_df, 'student_assessments')\n",
    "add_df_to_db(student_info_df, 'student_info')\n",
    "add_df_to_db(student_registration_df, 'student_registration')\n",
    "add_df_to_db(student_vle_df, 'student_vle')\n",
    "add_df_to_db(vle_df, 'vle')"
   ]
  },
  {
   "cell_type": "code",
   "execution_count": 25,
   "metadata": {},
   "outputs": [
    {
     "data": {
      "text/plain": [
       "[('assessments',),\n",
       " ('courses',),\n",
       " ('student_assessments',),\n",
       " ('student_info',),\n",
       " ('student_registration',),\n",
       " ('student_vle',),\n",
       " ('vle',)]"
      ]
     },
     "execution_count": 25,
     "metadata": {},
     "output_type": "execute_result"
    }
   ],
   "source": [
    "c.execute(\"SELECT name FROM sqlite_master WHERE type = 'table';\").fetchall()"
   ]
  },
  {
   "cell_type": "code",
   "execution_count": 10,
   "metadata": {},
   "outputs": [],
   "source": [
    "# check that values are actually in the tables!\n",
    "\n",
    "# c.execute(\"SELECT * FROM student_assessments;\").fetchall()"
   ]
  },
  {
   "cell_type": "markdown",
   "metadata": {},
   "source": [
    "## I. Exploratory Data Analysis\n",
    "### With Some Data Cleaning as Needed"
   ]
  },
  {
   "cell_type": "markdown",
   "metadata": {},
   "source": [
    "### Student Info - Demographic Data about Students and Their Results\n",
    "\n",
    "Columns that are not self-explanatory\n",
    "\n",
    "* imd_band = Index of Multiple Deprivation, where the student lived during the module presentation (score used in the United Kingdom to assess a region based on income, employment, health deprivation and disability, education skills and training, barriers to housing and services, crime, and living environment\n",
    "* studied_credits = total number of credits for the modules the student is currently studying"
   ]
  },
  {
   "cell_type": "code",
   "execution_count": 12,
   "metadata": {},
   "outputs": [
    {
     "data": {
      "text/html": [
       "<div>\n",
       "<style scoped>\n",
       "    .dataframe tbody tr th:only-of-type {\n",
       "        vertical-align: middle;\n",
       "    }\n",
       "\n",
       "    .dataframe tbody tr th {\n",
       "        vertical-align: top;\n",
       "    }\n",
       "\n",
       "    .dataframe thead th {\n",
       "        text-align: right;\n",
       "    }\n",
       "</style>\n",
       "<table border=\"1\" class=\"dataframe\">\n",
       "  <thead>\n",
       "    <tr style=\"text-align: right;\">\n",
       "      <th></th>\n",
       "      <th>code_module</th>\n",
       "      <th>code_presentation</th>\n",
       "      <th>id_student</th>\n",
       "      <th>gender</th>\n",
       "      <th>region</th>\n",
       "      <th>highest_education</th>\n",
       "      <th>imd_band</th>\n",
       "      <th>age_band</th>\n",
       "      <th>num_of_prev_attempts</th>\n",
       "      <th>studied_credits</th>\n",
       "      <th>disability</th>\n",
       "      <th>final_result</th>\n",
       "    </tr>\n",
       "  </thead>\n",
       "  <tbody>\n",
       "    <tr>\n",
       "      <th>0</th>\n",
       "      <td>AAA</td>\n",
       "      <td>2013J</td>\n",
       "      <td>11391</td>\n",
       "      <td>M</td>\n",
       "      <td>East Anglian Region</td>\n",
       "      <td>HE Qualification</td>\n",
       "      <td>90-100%</td>\n",
       "      <td>55&lt;=</td>\n",
       "      <td>0</td>\n",
       "      <td>240</td>\n",
       "      <td>N</td>\n",
       "      <td>Pass</td>\n",
       "    </tr>\n",
       "    <tr>\n",
       "      <th>1</th>\n",
       "      <td>AAA</td>\n",
       "      <td>2013J</td>\n",
       "      <td>28400</td>\n",
       "      <td>F</td>\n",
       "      <td>Scotland</td>\n",
       "      <td>HE Qualification</td>\n",
       "      <td>20-30%</td>\n",
       "      <td>35-55</td>\n",
       "      <td>0</td>\n",
       "      <td>60</td>\n",
       "      <td>N</td>\n",
       "      <td>Pass</td>\n",
       "    </tr>\n",
       "    <tr>\n",
       "      <th>2</th>\n",
       "      <td>AAA</td>\n",
       "      <td>2013J</td>\n",
       "      <td>30268</td>\n",
       "      <td>F</td>\n",
       "      <td>North Western Region</td>\n",
       "      <td>A Level or Equivalent</td>\n",
       "      <td>30-40%</td>\n",
       "      <td>35-55</td>\n",
       "      <td>0</td>\n",
       "      <td>60</td>\n",
       "      <td>Y</td>\n",
       "      <td>Withdrawn</td>\n",
       "    </tr>\n",
       "    <tr>\n",
       "      <th>3</th>\n",
       "      <td>AAA</td>\n",
       "      <td>2013J</td>\n",
       "      <td>31604</td>\n",
       "      <td>F</td>\n",
       "      <td>South East Region</td>\n",
       "      <td>A Level or Equivalent</td>\n",
       "      <td>50-60%</td>\n",
       "      <td>35-55</td>\n",
       "      <td>0</td>\n",
       "      <td>60</td>\n",
       "      <td>N</td>\n",
       "      <td>Pass</td>\n",
       "    </tr>\n",
       "    <tr>\n",
       "      <th>4</th>\n",
       "      <td>AAA</td>\n",
       "      <td>2013J</td>\n",
       "      <td>32885</td>\n",
       "      <td>F</td>\n",
       "      <td>West Midlands Region</td>\n",
       "      <td>Lower Than A Level</td>\n",
       "      <td>50-60%</td>\n",
       "      <td>0-35</td>\n",
       "      <td>0</td>\n",
       "      <td>60</td>\n",
       "      <td>N</td>\n",
       "      <td>Pass</td>\n",
       "    </tr>\n",
       "  </tbody>\n",
       "</table>\n",
       "</div>"
      ],
      "text/plain": [
       "  code_module code_presentation  id_student gender                region  \\\n",
       "0         AAA             2013J       11391      M   East Anglian Region   \n",
       "1         AAA             2013J       28400      F              Scotland   \n",
       "2         AAA             2013J       30268      F  North Western Region   \n",
       "3         AAA             2013J       31604      F     South East Region   \n",
       "4         AAA             2013J       32885      F  West Midlands Region   \n",
       "\n",
       "       highest_education imd_band age_band  num_of_prev_attempts  \\\n",
       "0       HE Qualification  90-100%     55<=                     0   \n",
       "1       HE Qualification   20-30%    35-55                     0   \n",
       "2  A Level or Equivalent   30-40%    35-55                     0   \n",
       "3  A Level or Equivalent   50-60%    35-55                     0   \n",
       "4     Lower Than A Level   50-60%     0-35                     0   \n",
       "\n",
       "   studied_credits disability final_result  \n",
       "0              240          N         Pass  \n",
       "1               60          N         Pass  \n",
       "2               60          Y    Withdrawn  \n",
       "3               60          N         Pass  \n",
       "4               60          N         Pass  "
      ]
     },
     "execution_count": 12,
     "metadata": {},
     "output_type": "execute_result"
    }
   ],
   "source": [
    "student_info_df.head()"
   ]
  },
  {
   "cell_type": "code",
   "execution_count": 13,
   "metadata": {},
   "outputs": [
    {
     "data": {
      "text/plain": [
       "[('90-100%',),\n",
       " ('20-30%',),\n",
       " ('30-40%',),\n",
       " ('50-60%',),\n",
       " ('80-90%',),\n",
       " ('70-80%',),\n",
       " (None,),\n",
       " ('60-70%',),\n",
       " ('40-50%',),\n",
       " ('10-20',),\n",
       " ('0-10%',)]"
      ]
     },
     "execution_count": 13,
     "metadata": {},
     "output_type": "execute_result"
    }
   ],
   "source": [
    "c.execute('SELECT DISTINCT imd_band from student_info;').fetchall()"
   ]
  },
  {
   "cell_type": "code",
   "execution_count": 14,
   "metadata": {},
   "outputs": [
    {
     "data": {
      "text/plain": [
       "code_module                0\n",
       "code_presentation          0\n",
       "id_student                 0\n",
       "gender                     0\n",
       "region                     0\n",
       "highest_education          0\n",
       "imd_band                1111\n",
       "age_band                   0\n",
       "num_of_prev_attempts       0\n",
       "studied_credits            0\n",
       "disability                 0\n",
       "final_result               0\n",
       "dtype: int64"
      ]
     },
     "execution_count": 14,
     "metadata": {},
     "output_type": "execute_result"
    }
   ],
   "source": [
    "student_info_df.isnull().sum()"
   ]
  },
  {
   "cell_type": "code",
   "execution_count": 15,
   "metadata": {},
   "outputs": [
    {
     "data": {
      "text/plain": [
       "(32593, 12)"
      ]
     },
     "execution_count": 15,
     "metadata": {},
     "output_type": "execute_result"
    }
   ],
   "source": [
    "student_info_df.shape"
   ]
  },
  {
   "cell_type": "code",
   "execution_count": 16,
   "metadata": {},
   "outputs": [
    {
     "data": {
      "text/plain": [
       "20-30%     3654\n",
       "30-40%     3539\n",
       "10-20      3516\n",
       "0-10%      3311\n",
       "40-50%     3256\n",
       "50-60%     3124\n",
       "60-70%     2905\n",
       "70-80%     2879\n",
       "80-90%     2762\n",
       "90-100%    2536\n",
       "Name: imd_band, dtype: int64"
      ]
     },
     "execution_count": 16,
     "metadata": {},
     "output_type": "execute_result"
    }
   ],
   "source": [
    "student_info_df.imd_band.value_counts()"
   ]
  },
  {
   "cell_type": "code",
   "execution_count": 17,
   "metadata": {},
   "outputs": [
    {
     "data": {
      "text/plain": [
       "Pass           12361\n",
       "Withdrawn      10156\n",
       "Fail            7052\n",
       "Distinction     3024\n",
       "Name: final_result, dtype: int64"
      ]
     },
     "execution_count": 17,
     "metadata": {},
     "output_type": "execute_result"
    }
   ],
   "source": [
    "student_info_df.final_result.value_counts()"
   ]
  },
  {
   "cell_type": "markdown",
   "metadata": {},
   "source": [
    "#### Investigate IMD Index\n",
    "* IMD Band & Passing"
   ]
  },
  {
   "cell_type": "code",
   "execution_count": 22,
   "metadata": {},
   "outputs": [],
   "source": [
    "# this doesn't work - does not include Withdrawn column\n",
    "\n",
    "# imd_and_results = pd.read_sql_query(\"\"\"\n",
    "#                                     SELECT imd_band, COUNT(final_result) AS 'pass'\n",
    "#                                     FROM student_info\n",
    "#                                     WHERE final_result = 'Pass'\n",
    "#                                     GROUP BY imd_band\n",
    "#                                     UNION\n",
    "#                                     SELECT imd_band, COUNT(final_result) AS 'withdrawn'\n",
    "#                                     FROM student_info\n",
    "#                                     WHERE final_result = 'Withdrawn'\n",
    "#                                     GROUP BY imd_band;\"\"\", conn)\n",
    "# imd_and_results.head()"
   ]
  },
  {
   "cell_type": "code",
   "execution_count": 27,
   "metadata": {},
   "outputs": [
    {
     "data": {
      "text/html": [
       "<div>\n",
       "<style scoped>\n",
       "    .dataframe tbody tr th:only-of-type {\n",
       "        vertical-align: middle;\n",
       "    }\n",
       "\n",
       "    .dataframe tbody tr th {\n",
       "        vertical-align: top;\n",
       "    }\n",
       "\n",
       "    .dataframe thead th {\n",
       "        text-align: right;\n",
       "    }\n",
       "</style>\n",
       "<table border=\"1\" class=\"dataframe\">\n",
       "  <thead>\n",
       "    <tr style=\"text-align: right;\">\n",
       "      <th></th>\n",
       "      <th>imd_band</th>\n",
       "      <th>passing</th>\n",
       "    </tr>\n",
       "  </thead>\n",
       "  <tbody>\n",
       "    <tr>\n",
       "      <th>0</th>\n",
       "      <td>None</td>\n",
       "      <td>531</td>\n",
       "    </tr>\n",
       "    <tr>\n",
       "      <th>1</th>\n",
       "      <td>0-10%</td>\n",
       "      <td>996</td>\n",
       "    </tr>\n",
       "    <tr>\n",
       "      <th>2</th>\n",
       "      <td>10-20</td>\n",
       "      <td>1167</td>\n",
       "    </tr>\n",
       "    <tr>\n",
       "      <th>3</th>\n",
       "      <td>20-30%</td>\n",
       "      <td>1226</td>\n",
       "    </tr>\n",
       "    <tr>\n",
       "      <th>4</th>\n",
       "      <td>30-40%</td>\n",
       "      <td>1345</td>\n",
       "    </tr>\n",
       "    <tr>\n",
       "      <th>5</th>\n",
       "      <td>40-50%</td>\n",
       "      <td>1224</td>\n",
       "    </tr>\n",
       "    <tr>\n",
       "      <th>6</th>\n",
       "      <td>50-60%</td>\n",
       "      <td>1227</td>\n",
       "    </tr>\n",
       "    <tr>\n",
       "      <th>7</th>\n",
       "      <td>60-70%</td>\n",
       "      <td>1209</td>\n",
       "    </tr>\n",
       "    <tr>\n",
       "      <th>8</th>\n",
       "      <td>70-80%</td>\n",
       "      <td>1170</td>\n",
       "    </tr>\n",
       "    <tr>\n",
       "      <th>9</th>\n",
       "      <td>80-90%</td>\n",
       "      <td>1165</td>\n",
       "    </tr>\n",
       "    <tr>\n",
       "      <th>10</th>\n",
       "      <td>90-100%</td>\n",
       "      <td>1101</td>\n",
       "    </tr>\n",
       "  </tbody>\n",
       "</table>\n",
       "</div>"
      ],
      "text/plain": [
       "   imd_band  passing\n",
       "0      None      531\n",
       "1     0-10%      996\n",
       "2     10-20     1167\n",
       "3    20-30%     1226\n",
       "4    30-40%     1345\n",
       "5    40-50%     1224\n",
       "6    50-60%     1227\n",
       "7    60-70%     1209\n",
       "8    70-80%     1170\n",
       "9    80-90%     1165\n",
       "10  90-100%     1101"
      ]
     },
     "execution_count": 27,
     "metadata": {},
     "output_type": "execute_result"
    }
   ],
   "source": [
    "# do not use 'pass' as column name, as this is a python reserved keyword\n",
    "\n",
    "imd_and_passing = pd.read_sql_query(\"\"\"\n",
    "                                    SELECT imd_band, COUNT(final_result) AS passing\n",
    "                                    FROM student_info\n",
    "                                    WHERE final_result = 'Pass'\n",
    "                                    GROUP BY imd_band;\n",
    "                                    \"\"\", conn)\n",
    "\n",
    "imd_and_passing"
   ]
  },
  {
   "cell_type": "markdown",
   "metadata": {},
   "source": [
    "#### Examine Null IMD Values"
   ]
  },
  {
   "cell_type": "code",
   "execution_count": 35,
   "metadata": {},
   "outputs": [
    {
     "data": {
      "text/html": [
       "<div>\n",
       "<style scoped>\n",
       "    .dataframe tbody tr th:only-of-type {\n",
       "        vertical-align: middle;\n",
       "    }\n",
       "\n",
       "    .dataframe tbody tr th {\n",
       "        vertical-align: top;\n",
       "    }\n",
       "\n",
       "    .dataframe thead th {\n",
       "        text-align: right;\n",
       "    }\n",
       "</style>\n",
       "<table border=\"1\" class=\"dataframe\">\n",
       "  <thead>\n",
       "    <tr style=\"text-align: right;\">\n",
       "      <th></th>\n",
       "      <th>code_module</th>\n",
       "      <th>code_presentation</th>\n",
       "      <th>id_student</th>\n",
       "      <th>gender</th>\n",
       "      <th>region</th>\n",
       "      <th>highest_education</th>\n",
       "      <th>imd_band</th>\n",
       "      <th>age_band</th>\n",
       "      <th>num_of_prev_attempts</th>\n",
       "      <th>studied_credits</th>\n",
       "      <th>disability</th>\n",
       "      <th>final_result</th>\n",
       "    </tr>\n",
       "  </thead>\n",
       "  <tbody>\n",
       "    <tr>\n",
       "      <th>0</th>\n",
       "      <td>AAA</td>\n",
       "      <td>2013J</td>\n",
       "      <td>53025</td>\n",
       "      <td>M</td>\n",
       "      <td>North Region</td>\n",
       "      <td>Post Graduate Qualification</td>\n",
       "      <td>None</td>\n",
       "      <td>55&lt;=</td>\n",
       "      <td>0</td>\n",
       "      <td>60</td>\n",
       "      <td>N</td>\n",
       "      <td>Pass</td>\n",
       "    </tr>\n",
       "    <tr>\n",
       "      <th>1</th>\n",
       "      <td>AAA</td>\n",
       "      <td>2013J</td>\n",
       "      <td>71361</td>\n",
       "      <td>M</td>\n",
       "      <td>Ireland</td>\n",
       "      <td>HE Qualification</td>\n",
       "      <td>None</td>\n",
       "      <td>35-55</td>\n",
       "      <td>0</td>\n",
       "      <td>60</td>\n",
       "      <td>N</td>\n",
       "      <td>Pass</td>\n",
       "    </tr>\n",
       "    <tr>\n",
       "      <th>2</th>\n",
       "      <td>AAA</td>\n",
       "      <td>2013J</td>\n",
       "      <td>104476</td>\n",
       "      <td>M</td>\n",
       "      <td>Ireland</td>\n",
       "      <td>Post Graduate Qualification</td>\n",
       "      <td>None</td>\n",
       "      <td>35-55</td>\n",
       "      <td>0</td>\n",
       "      <td>60</td>\n",
       "      <td>N</td>\n",
       "      <td>Pass</td>\n",
       "    </tr>\n",
       "    <tr>\n",
       "      <th>3</th>\n",
       "      <td>AAA</td>\n",
       "      <td>2013J</td>\n",
       "      <td>114017</td>\n",
       "      <td>F</td>\n",
       "      <td>North Region</td>\n",
       "      <td>Post Graduate Qualification</td>\n",
       "      <td>None</td>\n",
       "      <td>35-55</td>\n",
       "      <td>0</td>\n",
       "      <td>60</td>\n",
       "      <td>N</td>\n",
       "      <td>Pass</td>\n",
       "    </tr>\n",
       "    <tr>\n",
       "      <th>4</th>\n",
       "      <td>AAA</td>\n",
       "      <td>2013J</td>\n",
       "      <td>172112</td>\n",
       "      <td>M</td>\n",
       "      <td>Ireland</td>\n",
       "      <td>HE Qualification</td>\n",
       "      <td>None</td>\n",
       "      <td>35-55</td>\n",
       "      <td>0</td>\n",
       "      <td>60</td>\n",
       "      <td>N</td>\n",
       "      <td>Pass</td>\n",
       "    </tr>\n",
       "  </tbody>\n",
       "</table>\n",
       "</div>"
      ],
      "text/plain": [
       "  code_module code_presentation  id_student gender        region  \\\n",
       "0         AAA             2013J       53025      M  North Region   \n",
       "1         AAA             2013J       71361      M       Ireland   \n",
       "2         AAA             2013J      104476      M       Ireland   \n",
       "3         AAA             2013J      114017      F  North Region   \n",
       "4         AAA             2013J      172112      M       Ireland   \n",
       "\n",
       "             highest_education imd_band age_band  num_of_prev_attempts  \\\n",
       "0  Post Graduate Qualification     None     55<=                     0   \n",
       "1             HE Qualification     None    35-55                     0   \n",
       "2  Post Graduate Qualification     None    35-55                     0   \n",
       "3  Post Graduate Qualification     None    35-55                     0   \n",
       "4             HE Qualification     None    35-55                     0   \n",
       "\n",
       "   studied_credits disability final_result  \n",
       "0               60          N         Pass  \n",
       "1               60          N         Pass  \n",
       "2               60          N         Pass  \n",
       "3               60          N         Pass  \n",
       "4               60          N         Pass  "
      ]
     },
     "execution_count": 35,
     "metadata": {},
     "output_type": "execute_result"
    }
   ],
   "source": [
    "imd_nulls = pd.read_sql_query(\"\"\"\n",
    "                              SELECT * \n",
    "                              FROM student_info\n",
    "                              WHERE imd_band IS NULL;\n",
    "                              \"\"\", conn)\n",
    "\n",
    "imd_nulls.head()"
   ]
  },
  {
   "cell_type": "code",
   "execution_count": 36,
   "metadata": {},
   "outputs": [
    {
     "data": {
      "text/html": [
       "<div>\n",
       "<style scoped>\n",
       "    .dataframe tbody tr th:only-of-type {\n",
       "        vertical-align: middle;\n",
       "    }\n",
       "\n",
       "    .dataframe tbody tr th {\n",
       "        vertical-align: top;\n",
       "    }\n",
       "\n",
       "    .dataframe thead th {\n",
       "        text-align: right;\n",
       "    }\n",
       "</style>\n",
       "<table border=\"1\" class=\"dataframe\">\n",
       "  <thead>\n",
       "    <tr style=\"text-align: right;\">\n",
       "      <th></th>\n",
       "      <th>code_module</th>\n",
       "      <th>code_presentation</th>\n",
       "      <th>id_student</th>\n",
       "      <th>gender</th>\n",
       "      <th>region</th>\n",
       "      <th>highest_education</th>\n",
       "      <th>imd_band</th>\n",
       "      <th>age_band</th>\n",
       "      <th>num_of_prev_attempts</th>\n",
       "      <th>studied_credits</th>\n",
       "      <th>disability</th>\n",
       "      <th>final_result</th>\n",
       "    </tr>\n",
       "  </thead>\n",
       "  <tbody>\n",
       "    <tr>\n",
       "      <th>1106</th>\n",
       "      <td>GGG</td>\n",
       "      <td>2013J</td>\n",
       "      <td>589914</td>\n",
       "      <td>M</td>\n",
       "      <td>North Region</td>\n",
       "      <td>Lower Than A Level</td>\n",
       "      <td>None</td>\n",
       "      <td>0-35</td>\n",
       "      <td>0</td>\n",
       "      <td>30</td>\n",
       "      <td>N</td>\n",
       "      <td>Pass</td>\n",
       "    </tr>\n",
       "    <tr>\n",
       "      <th>1107</th>\n",
       "      <td>GGG</td>\n",
       "      <td>2014B</td>\n",
       "      <td>575199</td>\n",
       "      <td>F</td>\n",
       "      <td>North Western Region</td>\n",
       "      <td>Lower Than A Level</td>\n",
       "      <td>None</td>\n",
       "      <td>0-35</td>\n",
       "      <td>0</td>\n",
       "      <td>30</td>\n",
       "      <td>N</td>\n",
       "      <td>Pass</td>\n",
       "    </tr>\n",
       "    <tr>\n",
       "      <th>1108</th>\n",
       "      <td>GGG</td>\n",
       "      <td>2014B</td>\n",
       "      <td>617889</td>\n",
       "      <td>F</td>\n",
       "      <td>South West Region</td>\n",
       "      <td>Lower Than A Level</td>\n",
       "      <td>None</td>\n",
       "      <td>0-35</td>\n",
       "      <td>0</td>\n",
       "      <td>30</td>\n",
       "      <td>N</td>\n",
       "      <td>Fail</td>\n",
       "    </tr>\n",
       "    <tr>\n",
       "      <th>1109</th>\n",
       "      <td>GGG</td>\n",
       "      <td>2014B</td>\n",
       "      <td>634470</td>\n",
       "      <td>F</td>\n",
       "      <td>South Region</td>\n",
       "      <td>A Level or Equivalent</td>\n",
       "      <td>None</td>\n",
       "      <td>0-35</td>\n",
       "      <td>0</td>\n",
       "      <td>30</td>\n",
       "      <td>N</td>\n",
       "      <td>Distinction</td>\n",
       "    </tr>\n",
       "    <tr>\n",
       "      <th>1110</th>\n",
       "      <td>GGG</td>\n",
       "      <td>2014J</td>\n",
       "      <td>683974</td>\n",
       "      <td>F</td>\n",
       "      <td>North Region</td>\n",
       "      <td>Lower Than A Level</td>\n",
       "      <td>None</td>\n",
       "      <td>0-35</td>\n",
       "      <td>0</td>\n",
       "      <td>30</td>\n",
       "      <td>N</td>\n",
       "      <td>Distinction</td>\n",
       "    </tr>\n",
       "  </tbody>\n",
       "</table>\n",
       "</div>"
      ],
      "text/plain": [
       "     code_module code_presentation  id_student gender                region  \\\n",
       "1106         GGG             2013J      589914      M          North Region   \n",
       "1107         GGG             2014B      575199      F  North Western Region   \n",
       "1108         GGG             2014B      617889      F     South West Region   \n",
       "1109         GGG             2014B      634470      F          South Region   \n",
       "1110         GGG             2014J      683974      F          North Region   \n",
       "\n",
       "          highest_education imd_band age_band  num_of_prev_attempts  \\\n",
       "1106     Lower Than A Level     None     0-35                     0   \n",
       "1107     Lower Than A Level     None     0-35                     0   \n",
       "1108     Lower Than A Level     None     0-35                     0   \n",
       "1109  A Level or Equivalent     None     0-35                     0   \n",
       "1110     Lower Than A Level     None     0-35                     0   \n",
       "\n",
       "      studied_credits disability final_result  \n",
       "1106               30          N         Pass  \n",
       "1107               30          N         Pass  \n",
       "1108               30          N         Fail  \n",
       "1109               30          N  Distinction  \n",
       "1110               30          N  Distinction  "
      ]
     },
     "execution_count": 36,
     "metadata": {},
     "output_type": "execute_result"
    }
   ],
   "source": [
    "imd_nulls.tail()"
   ]
  },
  {
   "cell_type": "markdown",
   "metadata": {},
   "source": [
    "#### Distribution of Passing Scores"
   ]
  },
  {
   "cell_type": "code",
   "execution_count": 32,
   "metadata": {},
   "outputs": [
    {
     "data": {
      "image/png": "[encoded data removed]",
      "text/plain": [
       "<Figure size 432x288 with 1 Axes>"
      ]
     },
     "metadata": {
      "needs_background": "light"
     },
     "output_type": "display_data"
    }
   ],
   "source": [
    "plt.hist(imd_and_passing.passing, bins=20, color='purple');"
   ]
  },
  {
   "cell_type": "markdown",
   "metadata": {},
   "source": [
    "#### Plot IMD Bands with Passing Scores\n",
    "* Convert imd_band from string format to percentile"
   ]
  },
  {
   "cell_type": "markdown",
   "metadata": {},
   "source": [
    "#### Convert String IMD Bands to Numeric Values (Percentiles 0-10, with Null Values as 0 and 90-100% as 10)"
   ]
  },
  {
   "cell_type": "markdown",
   "metadata": {},
   "source": [
    "#### Function Convert IMD Band Strings"
   ]
  },
  {
   "cell_type": "code",
   "execution_count": 46,
   "metadata": {},
   "outputs": [
    {
     "data": {
      "text/plain": [
       "20-30%     3654\n",
       "30-40%     3539\n",
       "10-20      3516\n",
       "0-10%      3311\n",
       "40-50%     3256\n",
       "50-60%     3124\n",
       "60-70%     2905\n",
       "70-80%     2879\n",
       "80-90%     2762\n",
       "90-100%    2536\n",
       "Name: imd_band, dtype: int64"
      ]
     },
     "execution_count": 46,
     "metadata": {},
     "output_type": "execute_result"
    }
   ],
   "source": [
    "student_info_df.imd_band.value_counts()"
   ]
  },
  {
   "cell_type": "code",
   "execution_count": 44,
   "metadata": {},
   "outputs": [],
   "source": [
    "def convert_string_band_to_numeric(col, to_be_replaced, replacement):\n",
    "    \n",
    "    col.replace({to_be_replaced:replacement}, inplace=True)"
   ]
  },
  {
   "cell_type": "code",
   "execution_count": 47,
   "metadata": {},
   "outputs": [],
   "source": [
    "# Test Function\n",
    "\n",
    "convert_string_band_to_numeric(student_info_df.imd_band, None, 0)"
   ]
  },
  {
   "cell_type": "code",
   "execution_count": 48,
   "metadata": {},
   "outputs": [],
   "source": [
    "convert_string_band_to_numeric(student_info_df.imd_band, '0-10%', 1)"
   ]
  },
  {
   "cell_type": "code",
   "execution_count": 49,
   "metadata": {},
   "outputs": [
    {
     "data": {
      "text/plain": [
       "20-30%     3654\n",
       "30-40%     3539\n",
       "10-20      3516\n",
       "1          3311\n",
       "40-50%     3256\n",
       "50-60%     3124\n",
       "60-70%     2905\n",
       "70-80%     2879\n",
       "80-90%     2762\n",
       "90-100%    2536\n",
       "0          1111\n",
       "Name: imd_band, dtype: int64"
      ]
     },
     "execution_count": 49,
     "metadata": {},
     "output_type": "execute_result"
    }
   ],
   "source": [
    "# Sanity Check\n",
    "\n",
    "student_info_df.imd_band.value_counts()"
   ]
  },
  {
   "cell_type": "code",
   "execution_count": 50,
   "metadata": {},
   "outputs": [],
   "source": [
    "# Convert the rest of the columns in student_info_df\n",
    "\n",
    "convert_string_band_to_numeric(student_info_df.imd_band, '10-20', 2)\n",
    "convert_string_band_to_numeric(student_info_df.imd_band, '20-30%', 3)\n",
    "convert_string_band_to_numeric(student_info_df.imd_band, '30-40%', 4)\n",
    "convert_string_band_to_numeric(student_info_df.imd_band, '40-50%', 5)\n",
    "convert_string_band_to_numeric(student_info_df.imd_band, '50-60%', 6)\n",
    "convert_string_band_to_numeric(student_info_df.imd_band, '60-70%', 7)\n",
    "convert_string_band_to_numeric(student_info_df.imd_band, '70-80%', 8)\n",
    "convert_string_band_to_numeric(student_info_df.imd_band, '80-90%', 9)\n",
    "convert_string_band_to_numeric(student_info_df.imd_band, '90-100%', 10)"
   ]
  },
  {
   "cell_type": "code",
   "execution_count": 52,
   "metadata": {},
   "outputs": [
    {
     "data": {
      "text/plain": [
       "3     3654\n",
       "4     3539\n",
       "2     3516\n",
       "1     3311\n",
       "5     3256\n",
       "6     3124\n",
       "7     2905\n",
       "8     2879\n",
       "9     2762\n",
       "10    2536\n",
       "0     1111\n",
       "Name: imd_band, dtype: int64"
      ]
     },
     "execution_count": 52,
     "metadata": {},
     "output_type": "execute_result"
    }
   ],
   "source": [
    "student_info_df.imd_band.value_counts()"
   ]
  },
  {
   "cell_type": "markdown",
   "metadata": {},
   "source": [
    "#### Convert final results to numeric\n",
    "* Fail = 0\n",
    "* Withdrawn = 1\n",
    "* Pass = 2\n",
    "* Distinction = 3"
   ]
  },
  {
   "cell_type": "code",
   "execution_count": 55,
   "metadata": {},
   "outputs": [
    {
     "data": {
      "text/plain": [
       "Pass           12361\n",
       "Withdrawn      10156\n",
       "Fail            7052\n",
       "Distinction     3024\n",
       "Name: final_result, dtype: int64"
      ]
     },
     "execution_count": 55,
     "metadata": {},
     "output_type": "execute_result"
    }
   ],
   "source": [
    "student_info_df.final_result.value_counts()"
   ]
  },
  {
   "cell_type": "code",
   "execution_count": 59,
   "metadata": {},
   "outputs": [
    {
     "data": {
      "text/plain": [
       "2    12361\n",
       "1    10156\n",
       "0     7052\n",
       "3     3024\n",
       "Name: final_result, dtype: int64"
      ]
     },
     "execution_count": 59,
     "metadata": {},
     "output_type": "execute_result"
    }
   ],
   "source": [
    "student_info_df.final_result.replace({'Fail': 0, 'Withdrawn': 1, 'Pass': 2, 'Distinction': 3}, inplace=True)\n",
    "student_info_df.final_result.value_counts()"
   ]
  },
  {
   "cell_type": "markdown",
   "metadata": {},
   "source": [
    "#### Correlation Heatmap to Compare IMD Bands with Final Results"
   ]
  },
  {
   "cell_type": "code",
   "execution_count": 61,
   "metadata": {},
   "outputs": [
    {
     "data": {
      "text/html": [
       "<div>\n",
       "<style scoped>\n",
       "    .dataframe tbody tr th:only-of-type {\n",
       "        vertical-align: middle;\n",
       "    }\n",
       "\n",
       "    .dataframe tbody tr th {\n",
       "        vertical-align: top;\n",
       "    }\n",
       "\n",
       "    .dataframe thead th {\n",
       "        text-align: right;\n",
       "    }\n",
       "</style>\n",
       "<table border=\"1\" class=\"dataframe\">\n",
       "  <thead>\n",
       "    <tr style=\"text-align: right;\">\n",
       "      <th></th>\n",
       "      <th>id_student</th>\n",
       "      <th>imd_band</th>\n",
       "      <th>num_of_prev_attempts</th>\n",
       "      <th>studied_credits</th>\n",
       "      <th>final_result</th>\n",
       "    </tr>\n",
       "  </thead>\n",
       "  <tbody>\n",
       "    <tr>\n",
       "      <th>id_student</th>\n",
       "      <td>1.000000</td>\n",
       "      <td>0.026922</td>\n",
       "      <td>0.011473</td>\n",
       "      <td>-0.003868</td>\n",
       "      <td>0.032757</td>\n",
       "    </tr>\n",
       "    <tr>\n",
       "      <th>imd_band</th>\n",
       "      <td>0.026922</td>\n",
       "      <td>1.000000</td>\n",
       "      <td>-0.030339</td>\n",
       "      <td>-0.039354</td>\n",
       "      <td>0.098656</td>\n",
       "    </tr>\n",
       "    <tr>\n",
       "      <th>num_of_prev_attempts</th>\n",
       "      <td>0.011473</td>\n",
       "      <td>-0.030339</td>\n",
       "      <td>1.000000</td>\n",
       "      <td>0.181729</td>\n",
       "      <td>-0.118649</td>\n",
       "    </tr>\n",
       "    <tr>\n",
       "      <th>studied_credits</th>\n",
       "      <td>-0.003868</td>\n",
       "      <td>-0.039354</td>\n",
       "      <td>0.181729</td>\n",
       "      <td>1.000000</td>\n",
       "      <td>-0.073889</td>\n",
       "    </tr>\n",
       "    <tr>\n",
       "      <th>final_result</th>\n",
       "      <td>0.032757</td>\n",
       "      <td>0.098656</td>\n",
       "      <td>-0.118649</td>\n",
       "      <td>-0.073889</td>\n",
       "      <td>1.000000</td>\n",
       "    </tr>\n",
       "  </tbody>\n",
       "</table>\n",
       "</div>"
      ],
      "text/plain": [
       "                      id_student  imd_band  num_of_prev_attempts  \\\n",
       "id_student              1.000000  0.026922              0.011473   \n",
       "imd_band                0.026922  1.000000             -0.030339   \n",
       "num_of_prev_attempts    0.011473 -0.030339              1.000000   \n",
       "studied_credits        -0.003868 -0.039354              0.181729   \n",
       "final_result            0.032757  0.098656             -0.118649   \n",
       "\n",
       "                      studied_credits  final_result  \n",
       "id_student                  -0.003868      0.032757  \n",
       "imd_band                    -0.039354      0.098656  \n",
       "num_of_prev_attempts         0.181729     -0.118649  \n",
       "studied_credits              1.000000     -0.073889  \n",
       "final_result                -0.073889      1.000000  "
      ]
     },
     "execution_count": 61,
     "metadata": {},
     "output_type": "execute_result"
    }
   ],
   "source": [
    "student_info_df.corr()"
   ]
  },
  {
   "cell_type": "code",
   "execution_count": 62,
   "metadata": {},
   "outputs": [
    {
     "data": {
      "image/png": "[encoded data removed]",
      "text/plain": [
       "<Figure size 432x288 with 2 Axes>"
      ]
     },
     "metadata": {
      "needs_background": "light"
     },
     "output_type": "display_data"
    }
   ],
   "source": [
    "sns.heatmap(student_info_df.corr(), annot=True);"
   ]
  },
  {
   "cell_type": "markdown",
   "metadata": {},
   "source": [
    "#### Interpretation of Heatmap - Highest Correlations\n",
    "* Number of Previous Attempts & Studied Credits (Positive Correlation)\n",
    "* IMD Band & Final Results (Positive Correlation)"
   ]
  },
  {
   "cell_type": "markdown",
   "metadata": {},
   "source": [
    "## Example Query\n",
    "* Is there a course with significantly more \"Withdrawn\" scores than others?\n",
    "* Are there other correlations with \"Withdrawn\" scores such as student demographics?\n",
    "    * IMD Band\n",
    "    * Age Band\n",
    "    * Gender\n",
    "    * Highest Education\n",
    "    * Disability - disability in the UK is defined as a mental or physical impairment which adversely affects one's ability to carry out normal day-to-day activities\n",
    "    \n",
    "* Academic Statistics\n",
    "    * Number of Previous attempts\n",
    "    * Date of \"unregistration\" - number of days relative to the start of the module when the student withdrew from the course\n",
    "    "
   ]
  },
  {
   "cell_type": "code",
   "execution_count": 63,
   "metadata": {},
   "outputs": [
    {
     "data": {
      "text/plain": [
       "[('assessments',),\n",
       " ('courses',),\n",
       " ('student_assessments',),\n",
       " ('student_info',),\n",
       " ('student_registration',),\n",
       " ('student_vle',),\n",
       " ('vle',)]"
      ]
     },
     "execution_count": 63,
     "metadata": {},
     "output_type": "execute_result"
    }
   ],
   "source": [
    "# Table Names Refresher\n",
    "\n",
    "c.execute(\"SELECT name FROM sqlite_master WHERE type = 'table';\").fetchall()"
   ]
  },
  {
   "cell_type": "code",
   "execution_count": 67,
   "metadata": {},
   "outputs": [
    {
     "data": {
      "text/plain": [
       "[(0, 'id_assessment', 'INTEGER', 0, None, 0),\n",
       " (1, 'id_student', 'INTEGER', 0, None, 0),\n",
       " (2, 'date_submitted', 'INTEGER', 0, None, 0),\n",
       " (3, 'is_banked', 'INTEGER', 0, None, 0),\n",
       " (4, 'score', 'REAL', 0, None, 0)]"
      ]
     },
     "execution_count": 67,
     "metadata": {},
     "output_type": "execute_result"
    }
   ],
   "source": [
    "# column names for assessments table\n",
    "\n",
    "c.execute(\"PRAGMA table_info(student_assessments)\").fetchall()"
   ]
  },
  {
   "cell_type": "code",
   "execution_count": 69,
   "metadata": {},
   "outputs": [],
   "source": [
    "# Check to see 'score'\n",
    "\n",
    "# c.execute('SELECT DISTINCT score FROM student_assessments;').fetchall()\n",
    "# no, this just gives the numeric scores from 0 - 100"
   ]
  },
  {
   "cell_type": "code",
   "execution_count": 72,
   "metadata": {},
   "outputs": [
    {
     "data": {
      "text/plain": [
       "[('Distinction', 3024), ('Fail', 7052), ('Pass', 12361), ('Withdrawn', 10156)]"
      ]
     },
     "execution_count": 72,
     "metadata": {},
     "output_type": "execute_result"
    }
   ],
   "source": [
    "c.execute(\"SELECT final_result, COUNT(final_result) FROM student_info GROUP BY final_result;\").fetchall()"
   ]
  },
  {
   "cell_type": "code",
   "execution_count": 73,
   "metadata": {},
   "outputs": [
    {
     "data": {
      "text/plain": [
       "[(0, 'code_module', 'TEXT', 0, None, 0),\n",
       " (1, 'code_presentation', 'TEXT', 0, None, 0),\n",
       " (2, 'id_student', 'INTEGER', 0, None, 0),\n",
       " (3, 'gender', 'TEXT', 0, None, 0),\n",
       " (4, 'region', 'TEXT', 0, None, 0),\n",
       " (5, 'highest_education', 'TEXT', 0, None, 0),\n",
       " (6, 'imd_band', 'TEXT', 0, None, 0),\n",
       " (7, 'age_band', 'TEXT', 0, None, 0),\n",
       " (8, 'num_of_prev_attempts', 'INTEGER', 0, None, 0),\n",
       " (9, 'studied_credits', 'INTEGER', 0, None, 0),\n",
       " (10, 'disability', 'TEXT', 0, None, 0),\n",
       " (11, 'final_result', 'TEXT', 0, None, 0)]"
      ]
     },
     "execution_count": 73,
     "metadata": {},
     "output_type": "execute_result"
    }
   ],
   "source": [
    "c.execute(\"PRAGMA table_info(student_info)\").fetchall()"
   ]
  },
  {
   "cell_type": "code",
   "execution_count": 78,
   "metadata": {},
   "outputs": [
    {
     "data": {
      "text/plain": [
       "[(2403, 'FFF'),\n",
       " (2388, 'BBB'),\n",
       " (2250, 'DDD'),\n",
       " (1975, 'CCC'),\n",
       " (722, 'EEE'),\n",
       " (292, 'GGG'),\n",
       " (126, 'AAA')]"
      ]
     },
     "execution_count": 78,
     "metadata": {},
     "output_type": "execute_result"
    }
   ],
   "source": [
    "c.execute(\"\"\"SELECT COUNT(code_module),\n",
    "        code_module\n",
    "        FROM student_info\n",
    "        WHERE final_result = 'Withdrawn'\n",
    "        GROUP BY code_module\n",
    "        ORDER BY COUNT(code_module) DESC\n",
    "        LIMIT 10;\"\"\").fetchall()"
   ]
  },
  {
   "cell_type": "markdown",
   "metadata": {},
   "source": [
    "Only 7 different code modules. Could examine the differences between the module with the most W's (FFF) and the one with the least (AAA)."
   ]
  },
  {
   "cell_type": "code",
   "execution_count": 80,
   "metadata": {},
   "outputs": [
    {
     "data": {
      "text/plain": [
       "[('0-35', 1790), ('35-55', 609), ('55<=', 4)]"
      ]
     },
     "execution_count": 80,
     "metadata": {},
     "output_type": "execute_result"
    }
   ],
   "source": [
    "# Check some demographics of the students who took FFF and also had a W\n",
    "\n",
    "c.execute(\"\"\"\n",
    "        SELECT age_band,\n",
    "        COUNT(age_band)\n",
    "        FROM student_info\n",
    "        WHERE (final_result = 'Withdrawn' AND code_module = 'FFF')\n",
    "        GROUP BY age_band;\n",
    "        \"\"\").fetchall()"
   ]
  },
  {
   "cell_type": "code",
   "execution_count": 81,
   "metadata": {},
   "outputs": [
    {
     "data": {
      "text/plain": [
       "[('55<=',), ('35-55',), ('0-35',)]"
      ]
     },
     "execution_count": 81,
     "metadata": {},
     "output_type": "execute_result"
    }
   ],
   "source": [
    "# Examine age bands\n",
    "\n",
    "c.execute(\"SELECT DISTINCT age_band FROM student_info;\").fetchall()"
   ]
  },
  {
   "cell_type": "code",
   "execution_count": 84,
   "metadata": {},
   "outputs": [
    {
     "data": {
      "text/plain": [
       "[('0-35', 1, 'F', 1, None, 0, 'N', 1, 'A Level or Equivalent', 1, 0, 1),\n",
       " ('0-35', 2, 'F', 2, None, 0, 'N', 2, 'HE Qualification', 2, 0, 2),\n",
       " ('0-35', 4, 'F', 4, None, 0, 'N', 4, 'Lower Than A Level', 4, 0, 4),\n",
       " ('0-35', 1, 'F', 1, None, 0, 'N', 1, 'No Formal quals', 1, 0, 1),\n",
       " ('0-35', 1, 'F', 1, None, 0, 'Y', 1, 'Lower Than A Level', 1, 0, 1),\n",
       " ('0-35',\n",
       "  16,\n",
       "  'F',\n",
       "  16,\n",
       "  '0-10%',\n",
       "  16,\n",
       "  'N',\n",
       "  16,\n",
       "  'A Level or Equivalent',\n",
       "  16,\n",
       "  0,\n",
       "  16),\n",
       " ('0-35', 2, 'F', 2, '0-10%', 2, 'N', 2, 'A Level or Equivalent', 2, 1, 2),\n",
       " ('0-35', 1, 'F', 1, '0-10%', 1, 'N', 1, 'A Level or Equivalent', 1, 2, 1),\n",
       " ('0-35', 2, 'F', 2, '0-10%', 2, 'N', 2, 'HE Qualification', 2, 0, 2),\n",
       " ('0-35', 1, 'F', 1, '0-10%', 1, 'N', 1, 'HE Qualification', 1, 1, 1),\n",
       " ('0-35', 1, 'F', 1, '0-10%', 1, 'N', 1, 'HE Qualification', 1, 2, 1),\n",
       " ('0-35', 22, 'F', 22, '0-10%', 22, 'N', 22, 'Lower Than A Level', 22, 0, 22),\n",
       " ('0-35', 1, 'F', 1, '0-10%', 1, 'N', 1, 'Lower Than A Level', 1, 1, 1),\n",
       " ('0-35', 1, 'F', 1, '0-10%', 1, 'N', 1, 'Lower Than A Level', 1, 2, 1),\n",
       " ('0-35', 2, 'F', 2, '0-10%', 2, 'N', 2, 'No Formal quals', 2, 0, 2),\n",
       " ('0-35', 1, 'F', 1, '0-10%', 1, 'Y', 1, 'A Level or Equivalent', 1, 0, 1),\n",
       " ('0-35', 1, 'F', 1, '0-10%', 1, 'Y', 1, 'A Level or Equivalent', 1, 1, 1),\n",
       " ('0-35', 3, 'F', 3, '0-10%', 3, 'Y', 3, 'Lower Than A Level', 3, 0, 3),\n",
       " ('0-35',\n",
       "  15,\n",
       "  'F',\n",
       "  15,\n",
       "  '10-20',\n",
       "  15,\n",
       "  'N',\n",
       "  15,\n",
       "  'A Level or Equivalent',\n",
       "  15,\n",
       "  0,\n",
       "  15),\n",
       " ('0-35', 1, 'F', 1, '10-20', 1, 'N', 1, 'A Level or Equivalent', 1, 1, 1),\n",
       " ('0-35', 1, 'F', 1, '10-20', 1, 'N', 1, 'A Level or Equivalent', 1, 2, 1),\n",
       " ('0-35', 2, 'F', 2, '10-20', 2, 'N', 2, 'HE Qualification', 2, 0, 2),\n",
       " ('0-35', 21, 'F', 21, '10-20', 21, 'N', 21, 'Lower Than A Level', 21, 0, 21),\n",
       " ('0-35', 5, 'F', 5, '10-20', 5, 'N', 5, 'Lower Than A Level', 5, 1, 5),\n",
       " ('0-35', 1, 'F', 1, '10-20', 1, 'N', 1, 'Lower Than A Level', 1, 2, 1),\n",
       " ('0-35', 3, 'F', 3, '10-20', 3, 'Y', 3, 'A Level or Equivalent', 3, 0, 3),\n",
       " ('0-35', 1, 'F', 1, '10-20', 1, 'Y', 1, 'A Level or Equivalent', 1, 1, 1),\n",
       " ('0-35', 5, 'F', 5, '10-20', 5, 'Y', 5, 'Lower Than A Level', 5, 0, 5),\n",
       " ('0-35',\n",
       "  13,\n",
       "  'F',\n",
       "  13,\n",
       "  '20-30%',\n",
       "  13,\n",
       "  'N',\n",
       "  13,\n",
       "  'A Level or Equivalent',\n",
       "  13,\n",
       "  0,\n",
       "  13),\n",
       " ('0-35', 2, 'F', 2, '20-30%', 2, 'N', 2, 'A Level or Equivalent', 2, 1, 2),\n",
       " ('0-35', 4, 'F', 4, '20-30%', 4, 'N', 4, 'HE Qualification', 4, 0, 4),\n",
       " ('0-35', 1, 'F', 1, '20-30%', 1, 'N', 1, 'HE Qualification', 1, 1, 1),\n",
       " ('0-35', 20, 'F', 20, '20-30%', 20, 'N', 20, 'Lower Than A Level', 20, 0, 20),\n",
       " ('0-35', 2, 'F', 2, '20-30%', 2, 'N', 2, 'Lower Than A Level', 2, 1, 2),\n",
       " ('0-35', 3, 'F', 3, '20-30%', 3, 'N', 3, 'No Formal quals', 3, 0, 3),\n",
       " ('0-35', 4, 'F', 4, '20-30%', 4, 'Y', 4, 'A Level or Equivalent', 4, 0, 4),\n",
       " ('0-35', 3, 'F', 3, '20-30%', 3, 'Y', 3, 'HE Qualification', 3, 0, 3),\n",
       " ('0-35', 7, 'F', 7, '20-30%', 7, 'Y', 7, 'Lower Than A Level', 7, 0, 7),\n",
       " ('0-35', 9, 'F', 9, '30-40%', 9, 'N', 9, 'A Level or Equivalent', 9, 0, 9),\n",
       " ('0-35', 2, 'F', 2, '30-40%', 2, 'N', 2, 'A Level or Equivalent', 2, 1, 2),\n",
       " ('0-35', 1, 'F', 1, '30-40%', 1, 'N', 1, 'HE Qualification', 1, 0, 1),\n",
       " ('0-35', 9, 'F', 9, '30-40%', 9, 'N', 9, 'Lower Than A Level', 9, 0, 9),\n",
       " ('0-35', 6, 'F', 6, '30-40%', 6, 'N', 6, 'Lower Than A Level', 6, 1, 6),\n",
       " ('0-35', 2, 'F', 2, '30-40%', 2, 'Y', 2, 'A Level or Equivalent', 2, 0, 2),\n",
       " ('0-35', 2, 'F', 2, '30-40%', 2, 'Y', 2, 'Lower Than A Level', 2, 0, 2),\n",
       " ('0-35', 7, 'F', 7, '40-50%', 7, 'N', 7, 'A Level or Equivalent', 7, 0, 7),\n",
       " ('0-35', 2, 'F', 2, '40-50%', 2, 'N', 2, 'HE Qualification', 2, 0, 2),\n",
       " ('0-35', 1, 'F', 1, '40-50%', 1, 'N', 1, 'HE Qualification', 1, 2, 1),\n",
       " ('0-35', 9, 'F', 9, '40-50%', 9, 'N', 9, 'Lower Than A Level', 9, 0, 9),\n",
       " ('0-35', 1, 'F', 1, '40-50%', 1, 'N', 1, 'Lower Than A Level', 1, 1, 1),\n",
       " ('0-35', 4, 'F', 4, '50-60%', 4, 'N', 4, 'A Level or Equivalent', 4, 0, 4),\n",
       " ('0-35', 1, 'F', 1, '50-60%', 1, 'N', 1, 'A Level or Equivalent', 1, 1, 1),\n",
       " ('0-35', 4, 'F', 4, '50-60%', 4, 'N', 4, 'HE Qualification', 4, 0, 4),\n",
       " ('0-35', 11, 'F', 11, '50-60%', 11, 'N', 11, 'Lower Than A Level', 11, 0, 11),\n",
       " ('0-35', 1, 'F', 1, '50-60%', 1, 'Y', 1, 'Lower Than A Level', 1, 1, 1),\n",
       " ('0-35', 8, 'F', 8, '60-70%', 8, 'N', 8, 'A Level or Equivalent', 8, 0, 8),\n",
       " ('0-35', 3, 'F', 3, '60-70%', 3, 'N', 3, 'A Level or Equivalent', 3, 1, 3),\n",
       " ('0-35', 3, 'F', 3, '60-70%', 3, 'N', 3, 'HE Qualification', 3, 0, 3),\n",
       " ('0-35', 5, 'F', 5, '60-70%', 5, 'N', 5, 'Lower Than A Level', 5, 0, 5),\n",
       " ('0-35', 2, 'F', 2, '60-70%', 2, 'N', 2, 'Lower Than A Level', 2, 1, 2),\n",
       " ('0-35', 2, 'F', 2, '60-70%', 2, 'Y', 2, 'A Level or Equivalent', 2, 0, 2),\n",
       " ('0-35', 2, 'F', 2, '60-70%', 2, 'Y', 2, 'Lower Than A Level', 2, 0, 2),\n",
       " ('0-35', 3, 'F', 3, '70-80%', 3, 'N', 3, 'A Level or Equivalent', 3, 0, 3),\n",
       " ('0-35', 3, 'F', 3, '70-80%', 3, 'N', 3, 'HE Qualification', 3, 0, 3),\n",
       " ('0-35', 1, 'F', 1, '70-80%', 1, 'N', 1, 'HE Qualification', 1, 1, 1),\n",
       " ('0-35', 9, 'F', 9, '70-80%', 9, 'N', 9, 'Lower Than A Level', 9, 0, 9),\n",
       " ('0-35', 2, 'F', 2, '70-80%', 2, 'N', 2, 'Lower Than A Level', 2, 1, 2),\n",
       " ('0-35', 1, 'F', 1, '70-80%', 1, 'N', 1, 'Lower Than A Level', 1, 2, 1),\n",
       " ('0-35', 2, 'F', 2, '70-80%', 2, 'Y', 2, 'A Level or Equivalent', 2, 0, 2),\n",
       " ('0-35', 1, 'F', 1, '70-80%', 1, 'Y', 1, 'Lower Than A Level', 1, 0, 1),\n",
       " ('0-35',\n",
       "  10,\n",
       "  'F',\n",
       "  10,\n",
       "  '80-90%',\n",
       "  10,\n",
       "  'N',\n",
       "  10,\n",
       "  'A Level or Equivalent',\n",
       "  10,\n",
       "  0,\n",
       "  10),\n",
       " ('0-35', 2, 'F', 2, '80-90%', 2, 'N', 2, 'HE Qualification', 2, 0, 2),\n",
       " ('0-35', 9, 'F', 9, '80-90%', 9, 'N', 9, 'Lower Than A Level', 9, 0, 9),\n",
       " ('0-35', 1, 'F', 1, '80-90%', 1, 'N', 1, 'Lower Than A Level', 1, 1, 1),\n",
       " ('0-35', 1, 'F', 1, '80-90%', 1, 'Y', 1, 'A Level or Equivalent', 1, 0, 1),\n",
       " ('0-35', 2, 'F', 2, '80-90%', 2, 'Y', 2, 'Lower Than A Level', 2, 0, 2),\n",
       " ('0-35', 8, 'F', 8, '90-100%', 8, 'N', 8, 'A Level or Equivalent', 8, 0, 8),\n",
       " ('0-35', 3, 'F', 3, '90-100%', 3, 'N', 3, 'HE Qualification', 3, 0, 3),\n",
       " ('0-35', 5, 'F', 5, '90-100%', 5, 'N', 5, 'Lower Than A Level', 5, 0, 5),\n",
       " ('0-35', 2, 'F', 2, '90-100%', 2, 'N', 2, 'Lower Than A Level', 2, 1, 2),\n",
       " ('0-35', 4, 'M', 4, None, 0, 'N', 4, 'A Level or Equivalent', 4, 0, 4),\n",
       " ('0-35', 3, 'M', 3, None, 0, 'N', 3, 'HE Qualification', 3, 0, 3),\n",
       " ('0-35', 2, 'M', 2, None, 0, 'N', 2, 'HE Qualification', 2, 1, 2),\n",
       " ('0-35', 1, 'M', 1, None, 0, 'N', 1, 'HE Qualification', 1, 2, 1),\n",
       " ('0-35', 17, 'M', 17, None, 0, 'N', 17, 'Lower Than A Level', 17, 0, 17),\n",
       " ('0-35', 1, 'M', 1, None, 0, 'N', 1, 'Lower Than A Level', 1, 1, 1),\n",
       " ('0-35', 1, 'M', 1, None, 0, 'N', 1, 'Lower Than A Level', 1, 2, 1),\n",
       " ('0-35', 5, 'M', 5, None, 0, 'N', 5, 'Post Graduate Qualification', 5, 0, 5),\n",
       " ('0-35', 1, 'M', 1, None, 0, 'Y', 1, 'A Level or Equivalent', 1, 0, 1),\n",
       " ('0-35',\n",
       "  46,\n",
       "  'M',\n",
       "  46,\n",
       "  '0-10%',\n",
       "  46,\n",
       "  'N',\n",
       "  46,\n",
       "  'A Level or Equivalent',\n",
       "  46,\n",
       "  0,\n",
       "  46),\n",
       " ('0-35', 6, 'M', 6, '0-10%', 6, 'N', 6, 'A Level or Equivalent', 6, 1, 6),\n",
       " ('0-35', 1, 'M', 1, '0-10%', 1, 'N', 1, 'A Level or Equivalent', 1, 2, 1),\n",
       " ('0-35', 12, 'M', 12, '0-10%', 12, 'N', 12, 'HE Qualification', 12, 0, 12),\n",
       " ('0-35', 2, 'M', 2, '0-10%', 2, 'N', 2, 'HE Qualification', 2, 1, 2),\n",
       " ('0-35', 64, 'M', 64, '0-10%', 64, 'N', 64, 'Lower Than A Level', 64, 0, 64),\n",
       " ('0-35', 13, 'M', 13, '0-10%', 13, 'N', 13, 'Lower Than A Level', 13, 1, 13),\n",
       " ('0-35', 4, 'M', 4, '0-10%', 4, 'N', 4, 'No Formal quals', 4, 0, 4),\n",
       " ('0-35',\n",
       "  12,\n",
       "  'M',\n",
       "  12,\n",
       "  '0-10%',\n",
       "  12,\n",
       "  'Y',\n",
       "  12,\n",
       "  'A Level or Equivalent',\n",
       "  12,\n",
       "  0,\n",
       "  12),\n",
       " ('0-35', 1, 'M', 1, '0-10%', 1, 'Y', 1, 'A Level or Equivalent', 1, 1, 1),\n",
       " ('0-35', 14, 'M', 14, '0-10%', 14, 'Y', 14, 'Lower Than A Level', 14, 0, 14),\n",
       " ('0-35', 2, 'M', 2, '0-10%', 2, 'Y', 2, 'Lower Than A Level', 2, 1, 2),\n",
       " ('0-35', 2, 'M', 2, '0-10%', 2, 'Y', 2, 'Lower Than A Level', 2, 2, 2),\n",
       " ('0-35',\n",
       "  48,\n",
       "  'M',\n",
       "  48,\n",
       "  '10-20',\n",
       "  48,\n",
       "  'N',\n",
       "  48,\n",
       "  'A Level or Equivalent',\n",
       "  48,\n",
       "  0,\n",
       "  48),\n",
       " ('0-35', 7, 'M', 7, '10-20', 7, 'N', 7, 'A Level or Equivalent', 7, 1, 7),\n",
       " ('0-35', 1, 'M', 1, '10-20', 1, 'N', 1, 'A Level or Equivalent', 1, 2, 1),\n",
       " ('0-35', 11, 'M', 11, '10-20', 11, 'N', 11, 'HE Qualification', 11, 0, 11),\n",
       " ('0-35', 4, 'M', 4, '10-20', 4, 'N', 4, 'HE Qualification', 4, 1, 4),\n",
       " ('0-35', 69, 'M', 69, '10-20', 69, 'N', 69, 'Lower Than A Level', 69, 0, 69),\n",
       " ('0-35', 10, 'M', 10, '10-20', 10, 'N', 10, 'Lower Than A Level', 10, 1, 10),\n",
       " ('0-35', 5, 'M', 5, '10-20', 5, 'N', 5, 'Lower Than A Level', 5, 2, 5),\n",
       " ('0-35', 1, 'M', 1, '10-20', 1, 'N', 1, 'Lower Than A Level', 1, 3, 1),\n",
       " ('0-35', 4, 'M', 4, '10-20', 4, 'N', 4, 'No Formal quals', 4, 0, 4),\n",
       " ('0-35', 8, 'M', 8, '10-20', 8, 'Y', 8, 'A Level or Equivalent', 8, 0, 8),\n",
       " ('0-35', 13, 'M', 13, '10-20', 13, 'Y', 13, 'Lower Than A Level', 13, 0, 13),\n",
       " ('0-35', 1, 'M', 1, '10-20', 1, 'Y', 1, 'Lower Than A Level', 1, 1, 1),\n",
       " ('0-35',\n",
       "  53,\n",
       "  'M',\n",
       "  53,\n",
       "  '20-30%',\n",
       "  53,\n",
       "  'N',\n",
       "  53,\n",
       "  'A Level or Equivalent',\n",
       "  53,\n",
       "  0,\n",
       "  53),\n",
       " ('0-35', 6, 'M', 6, '20-30%', 6, 'N', 6, 'A Level or Equivalent', 6, 1, 6),\n",
       " ('0-35', 3, 'M', 3, '20-30%', 3, 'N', 3, 'A Level or Equivalent', 3, 2, 3),\n",
       " ('0-35', 12, 'M', 12, '20-30%', 12, 'N', 12, 'HE Qualification', 12, 0, 12),\n",
       " ('0-35', 1, 'M', 1, '20-30%', 1, 'N', 1, 'HE Qualification', 1, 1, 1),\n",
       " ('0-35', 66, 'M', 66, '20-30%', 66, 'N', 66, 'Lower Than A Level', 66, 0, 66),\n",
       " ('0-35', 12, 'M', 12, '20-30%', 12, 'N', 12, 'Lower Than A Level', 12, 1, 12),\n",
       " ('0-35', 3, 'M', 3, '20-30%', 3, 'N', 3, 'Lower Than A Level', 3, 2, 3),\n",
       " ('0-35', 5, 'M', 5, '20-30%', 5, 'N', 5, 'No Formal quals', 5, 0, 5),\n",
       " ('0-35', 1, 'M', 1, '20-30%', 1, 'N', 1, 'No Formal quals', 1, 1, 1),\n",
       " ('0-35', 8, 'M', 8, '20-30%', 8, 'Y', 8, 'A Level or Equivalent', 8, 0, 8),\n",
       " ('0-35', 2, 'M', 2, '20-30%', 2, 'Y', 2, 'A Level or Equivalent', 2, 1, 2),\n",
       " ('0-35', 2, 'M', 2, '20-30%', 2, 'Y', 2, 'A Level or Equivalent', 2, 2, 2),\n",
       " ('0-35', 1, 'M', 1, '20-30%', 1, 'Y', 1, 'HE Qualification', 1, 2, 1),\n",
       " ('0-35', 1, 'M', 1, '20-30%', 1, 'Y', 1, 'HE Qualification', 1, 3, 1),\n",
       " ('0-35', 14, 'M', 14, '20-30%', 14, 'Y', 14, 'Lower Than A Level', 14, 0, 14),\n",
       " ('0-35', 4, 'M', 4, '20-30%', 4, 'Y', 4, 'Lower Than A Level', 4, 1, 4),\n",
       " ('0-35', 2, 'M', 2, '20-30%', 2, 'Y', 2, 'Lower Than A Level', 2, 2, 2),\n",
       " ('0-35',\n",
       "  55,\n",
       "  'M',\n",
       "  55,\n",
       "  '30-40%',\n",
       "  55,\n",
       "  'N',\n",
       "  55,\n",
       "  'A Level or Equivalent',\n",
       "  55,\n",
       "  0,\n",
       "  55),\n",
       " ('0-35', 7, 'M', 7, '30-40%', 7, 'N', 7, 'A Level or Equivalent', 7, 1, 7),\n",
       " ('0-35', 1, 'M', 1, '30-40%', 1, 'N', 1, 'A Level or Equivalent', 1, 2, 1),\n",
       " ('0-35', 5, 'M', 5, '30-40%', 5, 'N', 5, 'HE Qualification', 5, 0, 5),\n",
       " ('0-35', 59, 'M', 59, '30-40%', 59, 'N', 59, 'Lower Than A Level', 59, 0, 59),\n",
       " ('0-35', 13, 'M', 13, '30-40%', 13, 'N', 13, 'Lower Than A Level', 13, 1, 13),\n",
       " ('0-35', 4, 'M', 4, '30-40%', 4, 'N', 4, 'Lower Than A Level', 4, 2, 4),\n",
       " ('0-35', 1, 'M', 1, '30-40%', 1, 'N', 1, 'Lower Than A Level', 1, 3, 1),\n",
       " ('0-35', 4, 'M', 4, '30-40%', 4, 'N', 4, 'No Formal quals', 4, 0, 4),\n",
       " ('0-35', 1, 'M', 1, '30-40%', 1, 'N', 1, 'No Formal quals', 1, 1, 1),\n",
       " ('0-35', 7, 'M', 7, '30-40%', 7, 'Y', 7, 'A Level or Equivalent', 7, 0, 7),\n",
       " ('0-35', 3, 'M', 3, '30-40%', 3, 'Y', 3, 'A Level or Equivalent', 3, 1, 3),\n",
       " ('0-35', 3, 'M', 3, '30-40%', 3, 'Y', 3, 'HE Qualification', 3, 0, 3),\n",
       " ('0-35', 13, 'M', 13, '30-40%', 13, 'Y', 13, 'Lower Than A Level', 13, 0, 13),\n",
       " ('0-35', 2, 'M', 2, '30-40%', 2, 'Y', 2, 'Lower Than A Level', 2, 1, 2),\n",
       " ('0-35',\n",
       "  42,\n",
       "  'M',\n",
       "  42,\n",
       "  '40-50%',\n",
       "  42,\n",
       "  'N',\n",
       "  42,\n",
       "  'A Level or Equivalent',\n",
       "  42,\n",
       "  0,\n",
       "  42),\n",
       " ('0-35', 6, 'M', 6, '40-50%', 6, 'N', 6, 'A Level or Equivalent', 6, 1, 6),\n",
       " ('0-35', 6, 'M', 6, '40-50%', 6, 'N', 6, 'HE Qualification', 6, 0, 6),\n",
       " ('0-35', 1, 'M', 1, '40-50%', 1, 'N', 1, 'HE Qualification', 1, 1, 1),\n",
       " ('0-35', 48, 'M', 48, '40-50%', 48, 'N', 48, 'Lower Than A Level', 48, 0, 48),\n",
       " ('0-35', 7, 'M', 7, '40-50%', 7, 'N', 7, 'Lower Than A Level', 7, 1, 7),\n",
       " ('0-35', 2, 'M', 2, '40-50%', 2, 'N', 2, 'Lower Than A Level', 2, 2, 2),\n",
       " ('0-35', 1, 'M', 1, '40-50%', 1, 'N', 1, 'Lower Than A Level', 1, 3, 1),\n",
       " ('0-35', 8, 'M', 8, '40-50%', 8, 'Y', 8, 'A Level or Equivalent', 8, 0, 8),\n",
       " ('0-35', 2, 'M', 2, '40-50%', 2, 'Y', 2, 'A Level or Equivalent', 2, 1, 2),\n",
       " ('0-35', 7, 'M', 7, '40-50%', 7, 'Y', 7, 'Lower Than A Level', 7, 0, 7),\n",
       " ('0-35',\n",
       "  37,\n",
       "  'M',\n",
       "  37,\n",
       "  '50-60%',\n",
       "  37,\n",
       "  'N',\n",
       "  37,\n",
       "  'A Level or Equivalent',\n",
       "  37,\n",
       "  0,\n",
       "  37),\n",
       " ('0-35', 4, 'M', 4, '50-60%', 4, 'N', 4, 'A Level or Equivalent', 4, 1, 4),\n",
       " ('0-35', 1, 'M', 1, '50-60%', 1, 'N', 1, 'A Level or Equivalent', 1, 2, 1),\n",
       " ('0-35', 8, 'M', 8, '50-60%', 8, 'N', 8, 'HE Qualification', 8, 0, 8),\n",
       " ('0-35', 1, 'M', 1, '50-60%', 1, 'N', 1, 'HE Qualification', 1, 1, 1),\n",
       " ('0-35', 46, 'M', 46, '50-60%', 46, 'N', 46, 'Lower Than A Level', 46, 0, 46),\n",
       " ('0-35', 8, 'M', 8, '50-60%', 8, 'N', 8, 'Lower Than A Level', 8, 1, 8),\n",
       " ('0-35', 1, 'M', 1, '50-60%', 1, 'N', 1, 'Lower Than A Level', 1, 2, 1),\n",
       " ('0-35', 2, 'M', 2, '50-60%', 2, 'Y', 2, 'A Level or Equivalent', 2, 0, 2),\n",
       " ('0-35', 1, 'M', 1, '50-60%', 1, 'Y', 1, 'A Level or Equivalent', 1, 1, 1),\n",
       " ('0-35', 1, 'M', 1, '50-60%', 1, 'Y', 1, 'HE Qualification', 1, 0, 1),\n",
       " ('0-35', 6, 'M', 6, '50-60%', 6, 'Y', 6, 'Lower Than A Level', 6, 0, 6),\n",
       " ('0-35', 6, 'M', 6, '50-60%', 6, 'Y', 6, 'Lower Than A Level', 6, 1, 6),\n",
       " ('0-35',\n",
       "  29,\n",
       "  'M',\n",
       "  29,\n",
       "  '60-70%',\n",
       "  29,\n",
       "  'N',\n",
       "  29,\n",
       "  'A Level or Equivalent',\n",
       "  29,\n",
       "  0,\n",
       "  29),\n",
       " ('0-35', 5, 'M', 5, '60-70%', 5, 'N', 5, 'A Level or Equivalent', 5, 1, 5),\n",
       " ('0-35', 1, 'M', 1, '60-70%', 1, 'N', 1, 'A Level or Equivalent', 1, 3, 1),\n",
       " ('0-35', 7, 'M', 7, '60-70%', 7, 'N', 7, 'HE Qualification', 7, 0, 7),\n",
       " ('0-35', 48, 'M', 48, '60-70%', 48, 'N', 48, 'Lower Than A Level', 48, 0, 48),\n",
       " ('0-35', 5, 'M', 5, '60-70%', 5, 'N', 5, 'Lower Than A Level', 5, 1, 5),\n",
       " ('0-35', 1, 'M', 1, '60-70%', 1, 'N', 1, 'Lower Than A Level', 1, 2, 1),\n",
       " ('0-35', 1, 'M', 1, '60-70%', 1, 'N', 1, 'No Formal quals', 1, 0, 1),\n",
       " ('0-35', 7, 'M', 7, '60-70%', 7, 'Y', 7, 'A Level or Equivalent', 7, 0, 7),\n",
       " ('0-35', 7, 'M', 7, '60-70%', 7, 'Y', 7, 'Lower Than A Level', 7, 0, 7),\n",
       " ('0-35', 2, 'M', 2, '60-70%', 2, 'Y', 2, 'Lower Than A Level', 2, 1, 2),\n",
       " ('0-35', 1, 'M', 1, '60-70%', 1, 'Y', 1, 'Lower Than A Level', 1, 2, 1),\n",
       " ('0-35',\n",
       "  45,\n",
       "  'M',\n",
       "  45,\n",
       "  '70-80%',\n",
       "  45,\n",
       "  'N',\n",
       "  45,\n",
       "  'A Level or Equivalent',\n",
       "  45,\n",
       "  0,\n",
       "  45),\n",
       " ('0-35', 4, 'M', 4, '70-80%', 4, 'N', 4, 'A Level or Equivalent', 4, 1, 4),\n",
       " ('0-35', 6, 'M', 6, '70-80%', 6, 'N', 6, 'HE Qualification', 6, 0, 6),\n",
       " ('0-35', 1, 'M', 1, '70-80%', 1, 'N', 1, 'HE Qualification', 1, 1, 1),\n",
       " ('0-35', 37, 'M', 37, '70-80%', 37, 'N', 37, 'Lower Than A Level', 37, 0, 37),\n",
       " ('0-35', 7, 'M', 7, '70-80%', 7, 'N', 7, 'Lower Than A Level', 7, 1, 7),\n",
       " ('0-35', 1, 'M', 1, '70-80%', 1, 'N', 1, 'Lower Than A Level', 1, 2, 1),\n",
       " ('0-35', 1, 'M', 1, '70-80%', 1, 'N', 1, 'Lower Than A Level', 1, 3, 1),\n",
       " ('0-35', 1, 'M', 1, '70-80%', 1, 'Y', 1, 'A Level or Equivalent', 1, 0, 1),\n",
       " ('0-35', 4, 'M', 4, '70-80%', 4, 'Y', 4, 'Lower Than A Level', 4, 0, 4),\n",
       " ('0-35', 2, 'M', 2, '70-80%', 2, 'Y', 2, 'Lower Than A Level', 2, 1, 2),\n",
       " ('0-35',\n",
       "  34,\n",
       "  'M',\n",
       "  34,\n",
       "  '80-90%',\n",
       "  34,\n",
       "  'N',\n",
       "  34,\n",
       "  'A Level or Equivalent',\n",
       "  34,\n",
       "  0,\n",
       "  34),\n",
       " ('0-35', 4, 'M', 4, '80-90%', 4, 'N', 4, 'A Level or Equivalent', 4, 1, 4),\n",
       " ('0-35', 1, 'M', 1, '80-90%', 1, 'N', 1, 'A Level or Equivalent', 1, 2, 1),\n",
       " ('0-35', 6, 'M', 6, '80-90%', 6, 'N', 6, 'HE Qualification', 6, 0, 6),\n",
       " ('0-35', 2, 'M', 2, '80-90%', 2, 'N', 2, 'HE Qualification', 2, 1, 2),\n",
       " ('0-35', 1, 'M', 1, '80-90%', 1, 'N', 1, 'HE Qualification', 1, 2, 1),\n",
       " ('0-35', 41, 'M', 41, '80-90%', 41, 'N', 41, 'Lower Than A Level', 41, 0, 41),\n",
       " ('0-35', 4, 'M', 4, '80-90%', 4, 'N', 4, 'Lower Than A Level', 4, 1, 4),\n",
       " ('0-35', 2, 'M', 2, '80-90%', 2, 'N', 2, 'Lower Than A Level', 2, 2, 2),\n",
       " ('0-35', 1, 'M', 1, '80-90%', 1, 'N', 1, 'Lower Than A Level', 1, 3, 1),\n",
       " ('0-35', 5, 'M', 5, '80-90%', 5, 'Y', 5, 'A Level or Equivalent', 5, 0, 5),\n",
       " ('0-35', 2, 'M', 2, '80-90%', 2, 'Y', 2, 'A Level or Equivalent', 2, 1, 2),\n",
       " ('0-35', 5, 'M', 5, '80-90%', 5, 'Y', 5, 'Lower Than A Level', 5, 0, 5),\n",
       " ('0-35', 1, 'M', 1, '80-90%', 1, 'Y', 1, 'Lower Than A Level', 1, 1, 1),\n",
       " ('0-35', 1, 'M', 1, '80-90%', 1, 'Y', 1, 'Lower Than A Level', 1, 2, 1),\n",
       " ('0-35',\n",
       "  33,\n",
       "  'M',\n",
       "  33,\n",
       "  '90-100%',\n",
       "  33,\n",
       "  'N',\n",
       "  33,\n",
       "  'A Level or Equivalent',\n",
       "  33,\n",
       "  0,\n",
       "  33),\n",
       " ('0-35', 9, 'M', 9, '90-100%', 9, 'N', 9, 'A Level or Equivalent', 9, 1, 9),\n",
       " ('0-35', 7, 'M', 7, '90-100%', 7, 'N', 7, 'HE Qualification', 7, 0, 7),\n",
       " ('0-35',\n",
       "  33,\n",
       "  'M',\n",
       "  33,\n",
       "  '90-100%',\n",
       "  33,\n",
       "  'N',\n",
       "  33,\n",
       "  'Lower Than A Level',\n",
       "  33,\n",
       "  0,\n",
       "  33),\n",
       " ('0-35', 6, 'M', 6, '90-100%', 6, 'N', 6, 'Lower Than A Level', 6, 1, 6),\n",
       " ('0-35', 1, 'M', 1, '90-100%', 1, 'N', 1, 'Lower Than A Level', 1, 2, 1),\n",
       " ('0-35', 2, 'M', 2, '90-100%', 2, 'Y', 2, 'A Level or Equivalent', 2, 0, 2),\n",
       " ('0-35', 4, 'M', 4, '90-100%', 4, 'Y', 4, 'Lower Than A Level', 4, 0, 4),\n",
       " ('0-35', 1, 'M', 1, '90-100%', 1, 'Y', 1, 'Lower Than A Level', 1, 1, 1),\n",
       " ('35-55', 1, 'F', 1, None, 0, 'N', 1, 'A Level or Equivalent', 1, 0, 1),\n",
       " ('35-55', 1, 'F', 1, None, 0, 'N', 1, 'A Level or Equivalent', 1, 2, 1),\n",
       " ('35-55', 1, 'F', 1, None, 0, 'N', 1, 'Lower Than A Level', 1, 0, 1),\n",
       " ('35-55', 1, 'F', 1, None, 0, 'N', 1, 'Post Graduate Qualification', 1, 0, 1),\n",
       " ('35-55', 4, 'F', 4, '0-10%', 4, 'N', 4, 'A Level or Equivalent', 4, 0, 4),\n",
       " ('35-55', 1, 'F', 1, '0-10%', 1, 'N', 1, 'A Level or Equivalent', 1, 2, 1),\n",
       " ('35-55', 1, 'F', 1, '0-10%', 1, 'N', 1, 'A Level or Equivalent', 1, 3, 1),\n",
       " ('35-55', 1, 'F', 1, '0-10%', 1, 'N', 1, 'A Level or Equivalent', 1, 4, 1),\n",
       " ('35-55', 1, 'F', 1, '0-10%', 1, 'N', 1, 'A Level or Equivalent', 1, 5, 1),\n",
       " ('35-55', 1, 'F', 1, '0-10%', 1, 'N', 1, 'A Level or Equivalent', 1, 6, 1),\n",
       " ('35-55', 2, 'F', 2, '0-10%', 2, 'N', 2, 'HE Qualification', 2, 0, 2),\n",
       " ('35-55', 1, 'F', 1, '0-10%', 1, 'N', 1, 'HE Qualification', 1, 1, 1),\n",
       " ('35-55', 1, 'F', 1, '0-10%', 1, 'N', 1, 'HE Qualification', 1, 3, 1),\n",
       " ('35-55', 1, 'F', 1, '0-10%', 1, 'N', 1, 'HE Qualification', 1, 4, 1),\n",
       " ('35-55', 7, 'F', 7, '0-10%', 7, 'N', 7, 'Lower Than A Level', 7, 0, 7),\n",
       " ('35-55', 5, 'F', 5, '10-20', 5, 'N', 5, 'A Level or Equivalent', 5, 0, 5),\n",
       " ('35-55', 1, 'F', 1, '10-20', 1, 'N', 1, 'HE Qualification', 1, 0, 1),\n",
       " ('35-55', 9, 'F', 9, '10-20', 9, 'N', 9, 'Lower Than A Level', 9, 0, 9),\n",
       " ('35-55', 1, 'F', 1, '10-20', 1, 'Y', 1, 'A Level or Equivalent', 1, 0, 1),\n",
       " ('35-55', 1, 'F', 1, '10-20', 1, 'Y', 1, 'Lower Than A Level', 1, 0, 1),\n",
       " ('35-55', 1, 'F', 1, '10-20', 1, 'Y', 1, 'Lower Than A Level', 1, 1, 1),\n",
       " ('35-55', 1, 'F', 1, '20-30%', 1, 'N', 1, 'A Level or Equivalent', 1, 0, 1),\n",
       " ('35-55', 3, 'F', 3, '20-30%', 3, 'N', 3, 'HE Qualification', 3, 0, 3),\n",
       " ('35-55', 5, 'F', 5, '20-30%', 5, 'N', 5, 'Lower Than A Level', 5, 0, 5),\n",
       " ('35-55', 2, 'F', 2, '20-30%', 2, 'N', 2, 'No Formal quals', 2, 0, 2),\n",
       " ('35-55', 2, 'F', 2, '20-30%', 2, 'Y', 2, 'A Level or Equivalent', 2, 0, 2),\n",
       " ('35-55', 1, 'F', 1, '20-30%', 1, 'Y', 1, 'A Level or Equivalent', 1, 1, 1),\n",
       " ('35-55', 1, 'F', 1, '20-30%', 1, 'Y', 1, 'Lower Than A Level', 1, 0, 1),\n",
       " ('35-55', 3, 'F', 3, '30-40%', 3, 'N', 3, 'A Level or Equivalent', 3, 0, 3),\n",
       " ('35-55', 1, 'F', 1, '30-40%', 1, 'N', 1, 'A Level or Equivalent', 1, 1, 1),\n",
       " ('35-55', 3, 'F', 3, '30-40%', 3, 'N', 3, 'HE Qualification', 3, 0, 3),\n",
       " ('35-55', 2, 'F', 2, '30-40%', 2, 'N', 2, 'Lower Than A Level', 2, 0, 2),\n",
       " ('35-55', 1, 'F', 1, '30-40%', 1, 'N', 1, 'Lower Than A Level', 1, 1, 1),\n",
       " ('35-55', 1, 'F', 1, '30-40%', 1, 'Y', 1, 'A Level or Equivalent', 1, 0, 1),\n",
       " ('35-55', 1, 'F', 1, '30-40%', 1, 'Y', 1, 'Lower Than A Level', 1, 0, 1),\n",
       " ('35-55', 4, 'F', 4, '40-50%', 4, 'N', 4, 'A Level or Equivalent', 4, 0, 4),\n",
       " ('35-55', 1, 'F', 1, '40-50%', 1, 'N', 1, 'A Level or Equivalent', 1, 1, 1),\n",
       " ('35-55', 3, 'F', 3, '40-50%', 3, 'N', 3, 'HE Qualification', 3, 0, 3),\n",
       " ('35-55', 5, 'F', 5, '40-50%', 5, 'N', 5, 'Lower Than A Level', 5, 0, 5),\n",
       " ('35-55', 2, 'F', 2, '40-50%', 2, 'Y', 2, 'Lower Than A Level', 2, 0, 2),\n",
       " ('35-55', 2, 'F', 2, '50-60%', 2, 'N', 2, 'A Level or Equivalent', 2, 0, 2),\n",
       " ('35-55', 4, 'F', 4, '50-60%', 4, 'N', 4, 'HE Qualification', 4, 0, 4),\n",
       " ('35-55', 1, 'F', 1, '50-60%', 1, 'N', 1, 'HE Qualification', 1, 1, 1),\n",
       " ('35-55', 2, 'F', 2, '50-60%', 2, 'N', 2, 'Lower Than A Level', 2, 0, 2),\n",
       " ('35-55', 1, 'F', 1, '50-60%', 1, 'N', 1, 'No Formal quals', 1, 0, 1),\n",
       " ('35-55', 1, 'F', 1, '50-60%', 1, 'Y', 1, 'HE Qualification', 1, 0, 1),\n",
       " ('35-55', 4, 'F', 4, '60-70%', 4, 'N', 4, 'A Level or Equivalent', 4, 0, 4),\n",
       " ('35-55', 1, 'F', 1, '60-70%', 1, 'N', 1, 'HE Qualification', 1, 0, 1),\n",
       " ('35-55', 1, 'F', 1, '60-70%', 1, 'N', 1, 'Lower Than A Level', 1, 0, 1),\n",
       " ('35-55', 3, 'F', 3, '60-70%', 3, 'Y', 3, 'Lower Than A Level', 3, 0, 3),\n",
       " ('35-55', 1, 'F', 1, '60-70%', 1, 'Y', 1, 'Lower Than A Level', 1, 2, 1),\n",
       " ('35-55', 4, 'F', 4, '70-80%', 4, 'N', 4, 'A Level or Equivalent', 4, 0, 4),\n",
       " ('35-55', 4, 'F', 4, '70-80%', 4, 'N', 4, 'HE Qualification', 4, 0, 4),\n",
       " ('35-55', 3, 'F', 3, '70-80%', 3, 'N', 3, 'Lower Than A Level', 3, 0, 3),\n",
       " ('35-55', 1, 'F', 1, '70-80%', 1, 'N', 1, 'Lower Than A Level', 1, 1, 1),\n",
       " ('35-55', 1, 'F', 1, '70-80%', 1, 'Y', 1, 'A Level or Equivalent', 1, 0, 1),\n",
       " ('35-55', 1, 'F', 1, '80-90%', 1, 'N', 1, 'A Level or Equivalent', 1, 1, 1),\n",
       " ('35-55', 1, 'F', 1, '80-90%', 1, 'N', 1, 'A Level or Equivalent', 1, 3, 1),\n",
       " ('35-55', 1, 'F', 1, '80-90%', 1, 'N', 1, 'HE Qualification', 1, 0, 1),\n",
       " ('35-55', 5, 'F', 5, '80-90%', 5, 'N', 5, 'Lower Than A Level', 5, 0, 5),\n",
       " ('35-55', 1, 'F', 1, '90-100%', 1, 'N', 1, 'A Level or Equivalent', 1, 0, 1),\n",
       " ('35-55', 1, 'F', 1, '90-100%', 1, 'N', 1, 'HE Qualification', 1, 0, 1),\n",
       " ('35-55', 1, 'F', 1, '90-100%', 1, 'N', 1, 'HE Qualification', 1, 1, 1),\n",
       " ('35-55', 1, 'F', 1, '90-100%', 1, 'N', 1, 'HE Qualification', 1, 2, 1),\n",
       " ('35-55',\n",
       "  2,\n",
       "  'F',\n",
       "  2,\n",
       "  '90-100%',\n",
       "  2,\n",
       "  'N',\n",
       "  2,\n",
       "  'Post Graduate Qualification',\n",
       "  2,\n",
       "  0,\n",
       "  2),\n",
       " ('35-55', 2, 'F', 2, '90-100%', 2, 'Y', 2, 'A Level or Equivalent', 2, 0, 2),\n",
       " ('35-55', 1, 'M', 1, None, 0, 'N', 1, 'A Level or Equivalent', 1, 0, 1),\n",
       " ('35-55', 1, 'M', 1, None, 0, 'N', 1, 'A Level or Equivalent', 1, 1, 1),\n",
       " ('35-55', 1, 'M', 1, None, 0, 'N', 1, 'A Level or Equivalent', 1, 2, 1),\n",
       " ('35-55', 4, 'M', 4, None, 0, 'N', 4, 'HE Qualification', 4, 0, 4),\n",
       " ('35-55', 1, 'M', 1, None, 0, 'N', 1, 'HE Qualification', 1, 2, 1),\n",
       " ('35-55', 4, 'M', 4, None, 0, 'N', 4, 'Lower Than A Level', 4, 0, 4),\n",
       " ('35-55', 3, 'M', 3, None, 0, 'N', 3, 'Lower Than A Level', 3, 1, 3),\n",
       " ('35-55', 2, 'M', 2, None, 0, 'N', 2, 'Lower Than A Level', 2, 2, 2),\n",
       " ('35-55', 2, 'M', 2, None, 0, 'Y', 2, 'Lower Than A Level', 2, 0, 2),\n",
       " ('35-55', 9, 'M', 9, '0-10%', 9, 'N', 9, 'A Level or Equivalent', 9, 0, 9),\n",
       " ('35-55', 4, 'M', 4, '0-10%', 4, 'N', 4, 'A Level or Equivalent', 4, 1, 4),\n",
       " ('35-55', 3, 'M', 3, '0-10%', 3, 'N', 3, 'A Level or Equivalent', 3, 2, 3),\n",
       " ('35-55', 7, 'M', 7, '0-10%', 7, 'N', 7, 'HE Qualification', 7, 0, 7),\n",
       " ('35-55', 18, 'M', 18, '0-10%', 18, 'N', 18, 'Lower Than A Level', 18, 0, 18),\n",
       " ('35-55', 5, 'M', 5, '0-10%', 5, 'N', 5, 'Lower Than A Level', 5, 1, 5),\n",
       " ('35-55', 2, 'M', 2, '0-10%', 2, 'N', 2, 'Lower Than A Level', 2, 2, 2),\n",
       " ('35-55', 1, 'M', 1, '0-10%', 1, 'N', 1, 'Lower Than A Level', 1, 3, 1),\n",
       " ('35-55', 2, 'M', 2, '0-10%', 2, 'N', 2, 'No Formal quals', 2, 0, 2),\n",
       " ('35-55', 1, 'M', 1, '0-10%', 1, 'Y', 1, 'A Level or Equivalent', 1, 0, 1),\n",
       " ('35-55', 6, 'M', 6, '0-10%', 6, 'Y', 6, 'Lower Than A Level', 6, 0, 6),\n",
       " ('35-55', 1, 'M', 1, '0-10%', 1, 'Y', 1, 'Lower Than A Level', 1, 1, 1),\n",
       " ('35-55', 1, 'M', 1, '0-10%', 1, 'Y', 1, 'Lower Than A Level', 1, 2, 1),\n",
       " ('35-55',\n",
       "  14,\n",
       "  'M',\n",
       "  14,\n",
       "  '10-20',\n",
       "  14,\n",
       "  'N',\n",
       "  14,\n",
       "  'A Level or Equivalent',\n",
       "  14,\n",
       "  0,\n",
       "  14),\n",
       " ('35-55', 3, 'M', 3, '10-20', 3, 'N', 3, 'A Level or Equivalent', 3, 1, 3),\n",
       " ('35-55', 1, 'M', 1, '10-20', 1, 'N', 1, 'A Level or Equivalent', 1, 2, 1),\n",
       " ('35-55', 6, 'M', 6, '10-20', 6, 'N', 6, 'HE Qualification', 6, 0, 6),\n",
       " ('35-55', 3, 'M', 3, '10-20', 3, 'N', 3, 'HE Qualification', 3, 1, 3),\n",
       " ('35-55', 24, 'M', 24, '10-20', 24, 'N', 24, 'Lower Than A Level', 24, 0, 24),\n",
       " ('35-55', 5, 'M', 5, '10-20', 5, 'N', 5, 'Lower Than A Level', 5, 1, 5),\n",
       " ('35-55', 3, 'M', 3, '10-20', 3, 'Y', 3, 'A Level or Equivalent', 3, 0, 3),\n",
       " ('35-55', 1, 'M', 1, '10-20', 1, 'Y', 1, 'A Level or Equivalent', 1, 1, 1),\n",
       " ('35-55', 1, 'M', 1, '10-20', 1, 'Y', 1, 'Lower Than A Level', 1, 0, 1),\n",
       " ('35-55', 9, 'M', 9, '20-30%', 9, 'N', 9, 'A Level or Equivalent', 9, 0, 9),\n",
       " ('35-55', 2, 'M', 2, '20-30%', 2, 'N', 2, 'A Level or Equivalent', 2, 2, 2),\n",
       " ('35-55', 6, 'M', 6, '20-30%', 6, 'N', 6, 'HE Qualification', 6, 0, 6),\n",
       " ('35-55', 1, 'M', 1, '20-30%', 1, 'N', 1, 'HE Qualification', 1, 1, 1),\n",
       " ('35-55',\n",
       "  18,\n",
       "  'M',\n",
       "  18,\n",
       "  '20-30%',\n",
       "  18,\n",
       "  'N',\n",
       "  18,\n",
       "  'Lower Than A Level',\n",
       "  18,\n",
       "  0,\n",
       "  18),\n",
       " ('35-55', 2, 'M', 2, '20-30%', 2, 'N', 2, 'Lower Than A Level', 2, 1, 2),\n",
       " ('35-55', 1, 'M', 1, '20-30%', 1, 'N', 1, 'No Formal quals', 1, 0, 1),\n",
       " ('35-55',\n",
       "  1,\n",
       "  'M',\n",
       "  1,\n",
       "  '20-30%',\n",
       "  1,\n",
       "  'N',\n",
       "  1,\n",
       "  'Post Graduate Qualification',\n",
       "  1,\n",
       "  0,\n",
       "  1),\n",
       " ('35-55', 3, 'M', 3, '20-30%', 3, 'Y', 3, 'A Level or Equivalent', 3, 0, 3),\n",
       " ('35-55', 2, 'M', 2, '20-30%', 2, 'Y', 2, 'A Level or Equivalent', 2, 1, 2),\n",
       " ('35-55', 3, 'M', 3, '20-30%', 3, 'Y', 3, 'Lower Than A Level', 3, 0, 3),\n",
       " ('35-55', 1, 'M', 1, '20-30%', 1, 'Y', 1, 'Lower Than A Level', 1, 1, 1),\n",
       " ('35-55', 1, 'M', 1, '20-30%', 1, 'Y', 1, 'Lower Than A Level', 1, 3, 1),\n",
       " ('35-55', 9, 'M', 9, '30-40%', 9, 'N', 9, 'A Level or Equivalent', 9, 0, 9),\n",
       " ('35-55', 4, 'M', 4, '30-40%', 4, 'N', 4, 'HE Qualification', 4, 0, 4),\n",
       " ('35-55',\n",
       "  20,\n",
       "  'M',\n",
       "  20,\n",
       "  '30-40%',\n",
       "  20,\n",
       "  'N',\n",
       "  20,\n",
       "  'Lower Than A Level',\n",
       "  20,\n",
       "  0,\n",
       "  20),\n",
       " ('35-55', 3, 'M', 3, '30-40%', 3, 'N', 3, 'Lower Than A Level', 3, 1, 3),\n",
       " ('35-55',\n",
       "  1,\n",
       "  'M',\n",
       "  1,\n",
       "  '30-40%',\n",
       "  1,\n",
       "  'N',\n",
       "  1,\n",
       "  'Post Graduate Qualification',\n",
       "  1,\n",
       "  0,\n",
       "  1),\n",
       " ('35-55',\n",
       "  1,\n",
       "  'M',\n",
       "  1,\n",
       "  '30-40%',\n",
       "  1,\n",
       "  'N',\n",
       "  1,\n",
       "  'Post Graduate Qualification',\n",
       "  1,\n",
       "  1,\n",
       "  1),\n",
       " ('35-55', 2, 'M', 2, '30-40%', 2, 'Y', 2, 'A Level or Equivalent', 2, 0, 2),\n",
       " ('35-55', 1, 'M', 1, '30-40%', 1, 'Y', 1, 'A Level or Equivalent', 1, 1, 1),\n",
       " ('35-55', 1, 'M', 1, '30-40%', 1, 'Y', 1, 'HE Qualification', 1, 0, 1),\n",
       " ('35-55', 5, 'M', 5, '30-40%', 5, 'Y', 5, 'Lower Than A Level', 5, 0, 5),\n",
       " ('35-55',\n",
       "  12,\n",
       "  'M',\n",
       "  12,\n",
       "  '40-50%',\n",
       "  12,\n",
       "  'N',\n",
       "  12,\n",
       "  'A Level or Equivalent',\n",
       "  12,\n",
       "  0,\n",
       "  12),\n",
       " ('35-55', 2, 'M', 2, '40-50%', 2, 'N', 2, 'A Level or Equivalent', 2, 1, 2),\n",
       " ('35-55', 3, 'M', 3, '40-50%', 3, 'N', 3, 'HE Qualification', 3, 0, 3),\n",
       " ('35-55',\n",
       "  18,\n",
       "  'M',\n",
       "  18,\n",
       "  '40-50%',\n",
       "  18,\n",
       "  'N',\n",
       "  18,\n",
       "  'Lower Than A Level',\n",
       "  18,\n",
       "  0,\n",
       "  18),\n",
       " ('35-55', 3, 'M', 3, '40-50%', 3, 'N', 3, 'Lower Than A Level', 3, 1, 3),\n",
       " ('35-55', 5, 'M', 5, '40-50%', 5, 'Y', 5, 'A Level or Equivalent', 5, 0, 5),\n",
       " ('35-55', 1, 'M', 1, '40-50%', 1, 'Y', 1, 'A Level or Equivalent', 1, 1, 1),\n",
       " ('35-55', 1, 'M', 1, '40-50%', 1, 'Y', 1, 'Lower Than A Level', 1, 0, 1),\n",
       " ('35-55',\n",
       "  12,\n",
       "  'M',\n",
       "  12,\n",
       "  '50-60%',\n",
       "  12,\n",
       "  'N',\n",
       "  12,\n",
       "  'A Level or Equivalent',\n",
       "  12,\n",
       "  0,\n",
       "  12),\n",
       " ('35-55', 2, 'M', 2, '50-60%', 2, 'N', 2, 'A Level or Equivalent', 2, 1, 2),\n",
       " ('35-55', 3, 'M', 3, '50-60%', 3, 'N', 3, 'A Level or Equivalent', 3, 2, 3),\n",
       " ('35-55', 5, 'M', 5, '50-60%', 5, 'N', 5, 'HE Qualification', 5, 0, 5),\n",
       " ('35-55', 1, 'M', 1, '50-60%', 1, 'N', 1, 'HE Qualification', 1, 1, 1),\n",
       " ('35-55', 1, 'M', 1, '50-60%', 1, 'N', 1, 'HE Qualification', 1, 2, 1),\n",
       " ('35-55',\n",
       "  21,\n",
       "  'M',\n",
       "  21,\n",
       "  '50-60%',\n",
       "  21,\n",
       "  'N',\n",
       "  21,\n",
       "  'Lower Than A Level',\n",
       "  21,\n",
       "  0,\n",
       "  21),\n",
       " ('35-55', 2, 'M', 2, '50-60%', 2, 'N', 2, 'Lower Than A Level', 2, 1, 2),\n",
       " ('35-55', 1, 'M', 1, '50-60%', 1, 'Y', 1, 'HE Qualification', 1, 0, 1),\n",
       " ('35-55', 1, 'M', 1, '50-60%', 1, 'Y', 1, 'Lower Than A Level', 1, 0, 1),\n",
       " ('35-55', 6, 'M', 6, '60-70%', 6, 'N', 6, 'A Level or Equivalent', 6, 0, 6),\n",
       " ('35-55', 3, 'M', 3, '60-70%', 3, 'N', 3, 'A Level or Equivalent', 3, 1, 3),\n",
       " ('35-55', 1, 'M', 1, '60-70%', 1, 'N', 1, 'A Level or Equivalent', 1, 2, 1),\n",
       " ('35-55', 5, 'M', 5, '60-70%', 5, 'N', 5, 'HE Qualification', 5, 0, 5),\n",
       " ('35-55', 1, 'M', 1, '60-70%', 1, 'N', 1, 'HE Qualification', 1, 1, 1),\n",
       " ('35-55',\n",
       "  10,\n",
       "  'M',\n",
       "  10,\n",
       "  '60-70%',\n",
       "  10,\n",
       "  'N',\n",
       "  10,\n",
       "  'Lower Than A Level',\n",
       "  10,\n",
       "  0,\n",
       "  10),\n",
       " ('35-55', 2, 'M', 2, '60-70%', 2, 'N', 2, 'Lower Than A Level', 2, 1, 2),\n",
       " ('35-55', 1, 'M', 1, '60-70%', 1, 'Y', 1, 'A Level or Equivalent', 1, 0, 1),\n",
       " ('35-55',\n",
       "  12,\n",
       "  'M',\n",
       "  12,\n",
       "  '70-80%',\n",
       "  12,\n",
       "  'N',\n",
       "  12,\n",
       "  'A Level or Equivalent',\n",
       "  12,\n",
       "  0,\n",
       "  12),\n",
       " ('35-55', 3, 'M', 3, '70-80%', 3, 'N', 3, 'A Level or Equivalent', 3, 1, 3),\n",
       " ('35-55', 2, 'M', 2, '70-80%', 2, 'N', 2, 'A Level or Equivalent', 2, 2, 2),\n",
       " ('35-55', 1, 'M', 1, '70-80%', 1, 'N', 1, 'A Level or Equivalent', 1, 4, 1),\n",
       " ('35-55', 8, 'M', 8, '70-80%', 8, 'N', 8, 'HE Qualification', 8, 0, 8),\n",
       " ('35-55',\n",
       "  18,\n",
       "  'M',\n",
       "  18,\n",
       "  '70-80%',\n",
       "  18,\n",
       "  'N',\n",
       "  18,\n",
       "  'Lower Than A Level',\n",
       "  18,\n",
       "  0,\n",
       "  18),\n",
       " ('35-55', 1, 'M', 1, '70-80%', 1, 'N', 1, 'Lower Than A Level', 1, 1, 1),\n",
       " ('35-55', 1, 'M', 1, '70-80%', 1, 'Y', 1, 'A Level or Equivalent', 1, 2, 1),\n",
       " ('35-55', 2, 'M', 2, '70-80%', 2, 'Y', 2, 'Lower Than A Level', 2, 0, 2),\n",
       " ('35-55', 1, 'M', 1, '70-80%', 1, 'Y', 1, 'Lower Than A Level', 1, 1, 1),\n",
       " ('35-55', 1, 'M', 1, '70-80%', 1, 'Y', 1, 'Lower Than A Level', 1, 2, 1),\n",
       " ('35-55', 5, 'M', 5, '80-90%', 5, 'N', 5, 'A Level or Equivalent', 5, 0, 5),\n",
       " ('35-55', 3, 'M', 3, '80-90%', 3, 'N', 3, 'A Level or Equivalent', 3, 1, 3),\n",
       " ('35-55', 1, 'M', 1, '80-90%', 1, 'N', 1, 'A Level or Equivalent', 1, 2, 1),\n",
       " ('35-55', 6, 'M', 6, '80-90%', 6, 'N', 6, 'HE Qualification', 6, 0, 6),\n",
       " ('35-55', 8, 'M', 8, '80-90%', 8, 'N', 8, 'Lower Than A Level', 8, 0, 8),\n",
       " ('35-55', 2, 'M', 2, '80-90%', 2, 'Y', 2, 'A Level or Equivalent', 2, 0, 2),\n",
       " ('35-55', 1, 'M', 1, '80-90%', 1, 'Y', 1, 'A Level or Equivalent', 1, 1, 1),\n",
       " ('35-55',\n",
       "  11,\n",
       "  'M',\n",
       "  11,\n",
       "  '90-100%',\n",
       "  11,\n",
       "  'N',\n",
       "  11,\n",
       "  'A Level or Equivalent',\n",
       "  11,\n",
       "  0,\n",
       "  11),\n",
       " ('35-55', 2, 'M', 2, '90-100%', 2, 'N', 2, 'A Level or Equivalent', 2, 1, 2),\n",
       " ('35-55', 2, 'M', 2, '90-100%', 2, 'N', 2, 'HE Qualification', 2, 0, 2),\n",
       " ('35-55', 1, 'M', 1, '90-100%', 1, 'N', 1, 'HE Qualification', 1, 1, 1),\n",
       " ('35-55',\n",
       "  10,\n",
       "  'M',\n",
       "  10,\n",
       "  '90-100%',\n",
       "  10,\n",
       "  'N',\n",
       "  10,\n",
       "  'Lower Than A Level',\n",
       "  10,\n",
       "  0,\n",
       "  10),\n",
       " ('35-55', 4, 'M', 4, '90-100%', 4, 'N', 4, 'Lower Than A Level', 4, 1, 4),\n",
       " ('35-55',\n",
       "  1,\n",
       "  'M',\n",
       "  1,\n",
       "  '90-100%',\n",
       "  1,\n",
       "  'N',\n",
       "  1,\n",
       "  'Post Graduate Qualification',\n",
       "  1,\n",
       "  0,\n",
       "  1),\n",
       " ('35-55',\n",
       "  1,\n",
       "  'M',\n",
       "  1,\n",
       "  '90-100%',\n",
       "  1,\n",
       "  'N',\n",
       "  1,\n",
       "  'Post Graduate Qualification',\n",
       "  1,\n",
       "  1,\n",
       "  1),\n",
       " ('35-55',\n",
       "  1,\n",
       "  'M',\n",
       "  1,\n",
       "  '90-100%',\n",
       "  1,\n",
       "  'N',\n",
       "  1,\n",
       "  'Post Graduate Qualification',\n",
       "  1,\n",
       "  2,\n",
       "  1),\n",
       " ('35-55', 2, 'M', 2, '90-100%', 2, 'Y', 2, 'HE Qualification', 2, 0, 2),\n",
       " ('35-55', 1, 'M', 1, '90-100%', 1, 'Y', 1, 'HE Qualification', 1, 1, 1),\n",
       " ('35-55', 1, 'M', 1, '90-100%', 1, 'Y', 1, 'HE Qualification', 1, 2, 1),\n",
       " ('35-55', 1, 'M', 1, '90-100%', 1, 'Y', 1, 'Lower Than A Level', 1, 1, 1),\n",
       " ('55<=', 1, 'M', 1, None, 0, 'N', 1, 'HE Qualification', 1, 0, 1),\n",
       " ('55<=', 1, 'M', 1, '20-30%', 1, 'N', 1, 'A Level or Equivalent', 1, 0, 1),\n",
       " ('55<=', 1, 'M', 1, '40-50%', 1, 'N', 1, 'A Level or Equivalent', 1, 0, 1),\n",
       " ('55<=', 1, 'M', 1, '90-100%', 1, 'N', 1, 'HE Qualification', 1, 0, 1)]"
      ]
     },
     "execution_count": 84,
     "metadata": {},
     "output_type": "execute_result"
    }
   ],
   "source": [
    "# Check more demographics\n",
    "\n",
    "c.execute(\"\"\"\n",
    "        SELECT age_band, COUNT(age_band),\n",
    "        gender, COUNT(gender),\n",
    "        imd_band, COUNT(imd_band),\n",
    "        disability, COUNT(disability),\n",
    "        highest_education, COUNT(highest_education),\n",
    "        num_of_prev_attempts, COUNT(num_of_prev_attempts)\n",
    "        FROM student_info\n",
    "        WHERE (final_result = 'Withdrawn' AND code_module = 'FFF')\n",
    "        GROUP BY age_band, gender, imd_band, disability, highest_education, num_of_prev_attempts;\n",
    "        \"\"\").fetchall()"
   ]
  },
  {
   "cell_type": "code",
   "execution_count": null,
   "metadata": {},
   "outputs": [],
   "source": [
    "SELECT \n",
    "     SUM(CASE WHEN column1 IS NOT NULL THEN 1 ELSE 0 END) AS column1_count\n",
    "    ,SUM(CASE WHEN column2 IS NOT NULL THEN 1 ELSE 0 END) AS column2_count\n",
    "    ,SUM(CASE WHEN column3 IS NOT NULL THEN 1 ELSE 0 END) AS column3_count\n",
    "FROM table"
   ]
  },
  {
   "cell_type": "code",
   "execution_count": 87,
   "metadata": {},
   "outputs": [
    {
     "data": {
      "text/plain": [
       "[('F', 303, None, 303),\n",
       " ('F', 1706, '0-10%', 1706),\n",
       " ('F', 1723, '10-20', 1723),\n",
       " ('F', 1822, '20-30%', 1822),\n",
       " ('F', 1598, '30-40%', 1598),\n",
       " ('F', 1537, '40-50%', 1537),\n",
       " ('F', 1450, '50-60%', 1450),\n",
       " ('F', 1301, '60-70%', 1301),\n",
       " ('F', 1189, '70-80%', 1189),\n",
       " ('F', 1127, '80-90%', 1127),\n",
       " ('F', 962, '90-100%', 962),\n",
       " ('M', 808, None, 808),\n",
       " ('M', 1605, '0-10%', 1605),\n",
       " ('M', 1793, '10-20', 1793),\n",
       " ('M', 1832, '20-30%', 1832),\n",
       " ('M', 1941, '30-40%', 1941),\n",
       " ('M', 1719, '40-50%', 1719),\n",
       " ('M', 1674, '50-60%', 1674),\n",
       " ('M', 1604, '60-70%', 1604),\n",
       " ('M', 1690, '70-80%', 1690),\n",
       " ('M', 1635, '80-90%', 1635),\n",
       " ('M', 1574, '90-100%', 1574)]"
      ]
     },
     "execution_count": 87,
     "metadata": {},
     "output_type": "execute_result"
    }
   ],
   "source": [
    "c.execute(\"\"\"\n",
    "        SELECT\n",
    "        gender, COUNT(CASE WHEN gender IS NOT NULL THEN 1 ELSE 0 END),\n",
    "        imd_band, COUNT(CASE WHEN imd_band IS NOT NULL THEN 1 ELSE 0 END)\n",
    "        FROM\n",
    "        student_info\n",
    "        GROUP BY gender, imd_band;\n",
    "        \"\"\").fetchall()"
   ]
  },
  {
   "cell_type": "code",
   "execution_count": 96,
   "metadata": {},
   "outputs": [
    {
     "data": {
      "text/html": [
       "<div>\n",
       "<style scoped>\n",
       "    .dataframe tbody tr th:only-of-type {\n",
       "        vertical-align: middle;\n",
       "    }\n",
       "\n",
       "    .dataframe tbody tr th {\n",
       "        vertical-align: top;\n",
       "    }\n",
       "\n",
       "    .dataframe thead th {\n",
       "        text-align: right;\n",
       "    }\n",
       "</style>\n",
       "<table border=\"1\" class=\"dataframe\">\n",
       "  <thead>\n",
       "    <tr style=\"text-align: right;\">\n",
       "      <th></th>\n",
       "      <th>id_student</th>\n",
       "      <th>code_module</th>\n",
       "      <th>gender</th>\n",
       "      <th>age_band</th>\n",
       "      <th>imd_band</th>\n",
       "      <th>num_of_prev_attempts</th>\n",
       "      <th>highest_education</th>\n",
       "      <th>disability</th>\n",
       "      <th>studied_credits</th>\n",
       "      <th>date_unregistration</th>\n",
       "      <th>final_result</th>\n",
       "    </tr>\n",
       "  </thead>\n",
       "  <tbody>\n",
       "    <tr>\n",
       "      <th>0</th>\n",
       "      <td>26269</td>\n",
       "      <td>FFF</td>\n",
       "      <td>M</td>\n",
       "      <td>35-55</td>\n",
       "      <td>0-10%</td>\n",
       "      <td>0</td>\n",
       "      <td>Lower Than A Level</td>\n",
       "      <td>N</td>\n",
       "      <td>60</td>\n",
       "      <td>-12.0</td>\n",
       "      <td>Withdrawn</td>\n",
       "    </tr>\n",
       "    <tr>\n",
       "      <th>1</th>\n",
       "      <td>30268</td>\n",
       "      <td>AAA</td>\n",
       "      <td>F</td>\n",
       "      <td>35-55</td>\n",
       "      <td>30-40%</td>\n",
       "      <td>0</td>\n",
       "      <td>A Level or Equivalent</td>\n",
       "      <td>Y</td>\n",
       "      <td>60</td>\n",
       "      <td>12.0</td>\n",
       "      <td>Withdrawn</td>\n",
       "    </tr>\n",
       "    <tr>\n",
       "      <th>2</th>\n",
       "      <td>33600</td>\n",
       "      <td>FFF</td>\n",
       "      <td>F</td>\n",
       "      <td>35-55</td>\n",
       "      <td>40-50%</td>\n",
       "      <td>0</td>\n",
       "      <td>A Level or Equivalent</td>\n",
       "      <td>N</td>\n",
       "      <td>150</td>\n",
       "      <td>-66.0</td>\n",
       "      <td>Withdrawn</td>\n",
       "    </tr>\n",
       "    <tr>\n",
       "      <th>3</th>\n",
       "      <td>34293</td>\n",
       "      <td>FFF</td>\n",
       "      <td>M</td>\n",
       "      <td>0-35</td>\n",
       "      <td>60-70%</td>\n",
       "      <td>0</td>\n",
       "      <td>Lower Than A Level</td>\n",
       "      <td>Y</td>\n",
       "      <td>60</td>\n",
       "      <td>90.0</td>\n",
       "      <td>Withdrawn</td>\n",
       "    </tr>\n",
       "    <tr>\n",
       "      <th>4</th>\n",
       "      <td>34731</td>\n",
       "      <td>FFF</td>\n",
       "      <td>M</td>\n",
       "      <td>0-35</td>\n",
       "      <td>20-30%</td>\n",
       "      <td>0</td>\n",
       "      <td>A Level or Equivalent</td>\n",
       "      <td>N</td>\n",
       "      <td>60</td>\n",
       "      <td>136.0</td>\n",
       "      <td>Withdrawn</td>\n",
       "    </tr>\n",
       "  </tbody>\n",
       "</table>\n",
       "</div>"
      ],
      "text/plain": [
       "   id_student code_module gender age_band imd_band  num_of_prev_attempts  \\\n",
       "0       26269         FFF      M    35-55    0-10%                     0   \n",
       "1       30268         AAA      F    35-55   30-40%                     0   \n",
       "2       33600         FFF      F    35-55   40-50%                     0   \n",
       "3       34293         FFF      M     0-35   60-70%                     0   \n",
       "4       34731         FFF      M     0-35   20-30%                     0   \n",
       "\n",
       "       highest_education disability  studied_credits  date_unregistration  \\\n",
       "0     Lower Than A Level          N               60                -12.0   \n",
       "1  A Level or Equivalent          Y               60                 12.0   \n",
       "2  A Level or Equivalent          N              150                -66.0   \n",
       "3     Lower Than A Level          Y               60                 90.0   \n",
       "4  A Level or Equivalent          N               60                136.0   \n",
       "\n",
       "  final_result  \n",
       "0    Withdrawn  \n",
       "1    Withdrawn  \n",
       "2    Withdrawn  \n",
       "3    Withdrawn  \n",
       "4    Withdrawn  "
      ]
     },
     "execution_count": 96,
     "metadata": {},
     "output_type": "execute_result"
    }
   ],
   "source": [
    "# Create CSV file for Dashboard Exploration - courses with highest and lowest withdraws\n",
    "\n",
    "withdraw_df = pd.read_sql_query(\"\"\"\n",
    "                                SELECT student_info.id_student,\n",
    "                                student_info.code_module,\n",
    "                                gender,\n",
    "                                age_band,\n",
    "                                imd_band,\n",
    "                                num_of_prev_attempts,\n",
    "                                highest_education,\n",
    "                                disability,\n",
    "                                studied_credits,\n",
    "                                region,\n",
    "                                student_registration.date_unregistration,\n",
    "                                final_result\n",
    "                                FROM student_info\n",
    "                                LEFT JOIN student_registration\n",
    "                                ON student_info.id_student = student_registration.id_student\n",
    "                                WHERE (student_info.code_module = 'FFF' OR student_info.code_module = 'AAA')\n",
    "                                AND\n",
    "                                final_result = 'Withdrawn'\n",
    "                                GROUP BY student_info.id_student;\n",
    "                                \"\"\", conn)\n",
    "\n",
    "withdraw_df.head()"
   ]
  },
  {
   "cell_type": "code",
   "execution_count": 91,
   "metadata": {},
   "outputs": [
    {
     "data": {
      "text/plain": [
       "[(0, 'code_module', 'TEXT', 0, None, 0),\n",
       " (1, 'code_presentation', 'TEXT', 0, None, 0),\n",
       " (2, 'id_student', 'INTEGER', 0, None, 0),\n",
       " (3, 'date_registration', 'REAL', 0, None, 0),\n",
       " (4, 'date_unregistration', 'REAL', 0, None, 0)]"
      ]
     },
     "execution_count": 91,
     "metadata": {},
     "output_type": "execute_result"
    }
   ],
   "source": [
    "c.execute(\"PRAGMA table_info(student_registration)\").fetchall()"
   ]
  },
  {
   "cell_type": "code",
   "execution_count": 97,
   "metadata": {},
   "outputs": [
    {
     "data": {
      "text/plain": [
       "(2385, 11)"
      ]
     },
     "execution_count": 97,
     "metadata": {},
     "output_type": "execute_result"
    }
   ],
   "source": [
    "withdraw_df.shape"
   ]
  },
  {
   "cell_type": "code",
   "execution_count": 98,
   "metadata": {},
   "outputs": [],
   "source": [
    "withdraw_df.to_csv('withdrawn_fff_aaa.csv', index=False)"
   ]
  },
  {
   "cell_type": "code",
   "execution_count": 101,
   "metadata": {},
   "outputs": [
    {
     "data": {
      "text/html": [
       "<div>\n",
       "<style scoped>\n",
       "    .dataframe tbody tr th:only-of-type {\n",
       "        vertical-align: middle;\n",
       "    }\n",
       "\n",
       "    .dataframe tbody tr th {\n",
       "        vertical-align: top;\n",
       "    }\n",
       "\n",
       "    .dataframe thead th {\n",
       "        text-align: right;\n",
       "    }\n",
       "</style>\n",
       "<table border=\"1\" class=\"dataframe\">\n",
       "  <thead>\n",
       "    <tr style=\"text-align: right;\">\n",
       "      <th></th>\n",
       "      <th>id_student</th>\n",
       "      <th>code_module</th>\n",
       "      <th>gender</th>\n",
       "      <th>age_band</th>\n",
       "      <th>imd_band</th>\n",
       "      <th>region</th>\n",
       "      <th>num_of_prev_attempts</th>\n",
       "      <th>highest_education</th>\n",
       "      <th>disability</th>\n",
       "      <th>studied_credits</th>\n",
       "      <th>date_unregistration</th>\n",
       "    </tr>\n",
       "  </thead>\n",
       "  <tbody>\n",
       "    <tr>\n",
       "      <th>0</th>\n",
       "      <td>3733</td>\n",
       "      <td>DDD</td>\n",
       "      <td>M</td>\n",
       "      <td>55&lt;=</td>\n",
       "      <td>90-100%</td>\n",
       "      <td>South Region</td>\n",
       "      <td>0</td>\n",
       "      <td>HE Qualification</td>\n",
       "      <td>N</td>\n",
       "      <td>60</td>\n",
       "      <td>-8.0</td>\n",
       "    </tr>\n",
       "    <tr>\n",
       "      <th>1</th>\n",
       "      <td>8462</td>\n",
       "      <td>DDD</td>\n",
       "      <td>M</td>\n",
       "      <td>55&lt;=</td>\n",
       "      <td>30-40%</td>\n",
       "      <td>London Region</td>\n",
       "      <td>0</td>\n",
       "      <td>HE Qualification</td>\n",
       "      <td>N</td>\n",
       "      <td>90</td>\n",
       "      <td>18.0</td>\n",
       "    </tr>\n",
       "    <tr>\n",
       "      <th>2</th>\n",
       "      <td>23632</td>\n",
       "      <td>BBB</td>\n",
       "      <td>F</td>\n",
       "      <td>0-35</td>\n",
       "      <td>40-50%</td>\n",
       "      <td>East Anglian Region</td>\n",
       "      <td>0</td>\n",
       "      <td>A Level or Equivalent</td>\n",
       "      <td>N</td>\n",
       "      <td>60</td>\n",
       "      <td>-51.0</td>\n",
       "    </tr>\n",
       "    <tr>\n",
       "      <th>3</th>\n",
       "      <td>24213</td>\n",
       "      <td>DDD</td>\n",
       "      <td>F</td>\n",
       "      <td>0-35</td>\n",
       "      <td>40-50%</td>\n",
       "      <td>East Anglian Region</td>\n",
       "      <td>0</td>\n",
       "      <td>A Level or Equivalent</td>\n",
       "      <td>N</td>\n",
       "      <td>90</td>\n",
       "      <td>NaN</td>\n",
       "    </tr>\n",
       "    <tr>\n",
       "      <th>4</th>\n",
       "      <td>25261</td>\n",
       "      <td>CCC</td>\n",
       "      <td>F</td>\n",
       "      <td>0-35</td>\n",
       "      <td>40-50%</td>\n",
       "      <td>Scotland</td>\n",
       "      <td>0</td>\n",
       "      <td>HE Qualification</td>\n",
       "      <td>N</td>\n",
       "      <td>60</td>\n",
       "      <td>51.0</td>\n",
       "    </tr>\n",
       "  </tbody>\n",
       "</table>\n",
       "</div>"
      ],
      "text/plain": [
       "   id_student code_module gender age_band imd_band               region  \\\n",
       "0        3733         DDD      M     55<=  90-100%         South Region   \n",
       "1        8462         DDD      M     55<=   30-40%        London Region   \n",
       "2       23632         BBB      F     0-35   40-50%  East Anglian Region   \n",
       "3       24213         DDD      F     0-35   40-50%  East Anglian Region   \n",
       "4       25261         CCC      F     0-35   40-50%             Scotland   \n",
       "\n",
       "   num_of_prev_attempts      highest_education disability  studied_credits  \\\n",
       "0                     0       HE Qualification          N               60   \n",
       "1                     0       HE Qualification          N               90   \n",
       "2                     0  A Level or Equivalent          N               60   \n",
       "3                     0  A Level or Equivalent          N               90   \n",
       "4                     0       HE Qualification          N               60   \n",
       "\n",
       "   date_unregistration  \n",
       "0                 -8.0  \n",
       "1                 18.0  \n",
       "2                -51.0  \n",
       "3                  NaN  \n",
       "4                 51.0  "
      ]
     },
     "execution_count": 101,
     "metadata": {},
     "output_type": "execute_result"
    }
   ],
   "source": [
    "# All Withdrawns\n",
    "\n",
    "all_withdrawn = pd.read_sql_query(\"\"\"\n",
    "                                SELECT student_info.id_student,\n",
    "                                student_info.code_module,\n",
    "                                gender,\n",
    "                                age_band,\n",
    "                                imd_band,\n",
    "                                region,\n",
    "                                num_of_prev_attempts,\n",
    "                                highest_education,\n",
    "                                disability,\n",
    "                                studied_credits,\n",
    "                                student_registration.date_unregistration\n",
    "                                FROM student_info\n",
    "                                LEFT JOIN student_registration\n",
    "                                ON student_info.id_student = student_registration.id_student\n",
    "                                WHERE final_result = 'Withdrawn'\n",
    "                                GROUP BY student_info.id_student;\n",
    "                                \"\"\", conn)\n",
    "\n",
    "all_withdrawn.head()"
   ]
  },
  {
   "cell_type": "code",
   "execution_count": 102,
   "metadata": {},
   "outputs": [],
   "source": [
    "all_withdrawn.to_csv('all_withdrawn.csv', index=False)"
   ]
  },
  {
   "cell_type": "markdown",
   "metadata": {},
   "source": [
    "## Average Grades for Courses"
   ]
  },
  {
   "cell_type": "code",
   "execution_count": 103,
   "metadata": {},
   "outputs": [
    {
     "data": {
      "text/plain": [
       "[(0, 'code_module', 'TEXT', 0, None, 0),\n",
       " (1, 'code_presentation', 'TEXT', 0, None, 0),\n",
       " (2, 'id_assessment', 'INTEGER', 0, None, 0),\n",
       " (3, 'assessment_type', 'TEXT', 0, None, 0),\n",
       " (4, 'date', 'REAL', 0, None, 0),\n",
       " (5, 'weight', 'REAL', 0, None, 0)]"
      ]
     },
     "execution_count": 103,
     "metadata": {},
     "output_type": "execute_result"
    }
   ],
   "source": [
    "# Examine assessments table\n",
    "\n",
    "c.execute(\"PRAGMA table_info(assessments)\").fetchall()"
   ]
  },
  {
   "cell_type": "code",
   "execution_count": 104,
   "metadata": {},
   "outputs": [
    {
     "data": {
      "text/plain": [
       "[('AAA', '2013J', 1752, 'TMA', 19.0, 10.0)]"
      ]
     },
     "execution_count": 104,
     "metadata": {},
     "output_type": "execute_result"
    }
   ],
   "source": [
    "c.execute(\"SELECT * FROM assessments LIMIT 1;\").fetchall()"
   ]
  },
  {
   "cell_type": "code",
   "execution_count": 111,
   "metadata": {},
   "outputs": [
    {
     "data": {
      "text/plain": [
       "[('2013B',),\n",
       " ('2013J',),\n",
       " ('2014B',),\n",
       " ('2014J',),\n",
       " ('AAA',),\n",
       " ('BBB',),\n",
       " ('CCC',),\n",
       " ('DDD',),\n",
       " ('EEE',),\n",
       " ('FFF',),\n",
       " ('GGG',)]"
      ]
     },
     "execution_count": 111,
     "metadata": {},
     "output_type": "execute_result"
    }
   ],
   "source": [
    "c.execute(\"\"\"\n",
    "        SELECT DISTINCT code_module\n",
    "        FROM assessments\n",
    "        UNION\n",
    "        SELECT DISTINCT code_presentation\n",
    "        FROM assessments;\n",
    "        \"\"\").fetchall()"
   ]
  },
  {
   "cell_type": "code",
   "execution_count": 109,
   "metadata": {},
   "outputs": [
    {
     "data": {
      "text/plain": [
       "[('AAA', '2013J'),\n",
       " ('AAA', '2014J'),\n",
       " ('BBB', '2013B'),\n",
       " ('BBB', '2013J'),\n",
       " ('BBB', '2014B'),\n",
       " ('BBB', '2014J'),\n",
       " ('CCC', '2014B'),\n",
       " ('CCC', '2014J'),\n",
       " ('DDD', '2013B'),\n",
       " ('DDD', '2013J'),\n",
       " ('DDD', '2014B'),\n",
       " ('DDD', '2014J'),\n",
       " ('EEE', '2013J'),\n",
       " ('EEE', '2014B'),\n",
       " ('EEE', '2014J'),\n",
       " ('FFF', '2013B'),\n",
       " ('FFF', '2013J'),\n",
       " ('FFF', '2014B'),\n",
       " ('FFF', '2014J'),\n",
       " ('GGG', '2013J'),\n",
       " ('GGG', '2014B'),\n",
       " ('GGG', '2014J')]"
      ]
     },
     "execution_count": 109,
     "metadata": {},
     "output_type": "execute_result"
    }
   ],
   "source": [
    "c.execute(\"SELECT DISTINCT code_module, code_presentation FROM assessments;\").fetchall()"
   ]
  },
  {
   "cell_type": "code",
   "execution_count": 118,
   "metadata": {},
   "outputs": [
    {
     "data": {
      "text/plain": [
       "[('AAA', 0.0, 98.0, 69.03051493960585),\n",
       " ('BBB', 0.0, 100.0, 76.7063682263431),\n",
       " ('CCC', 0.0, 100.0, 73.2613978551429),\n",
       " ('DDD', 0.0, 100.0, 70.09079993509654),\n",
       " ('EEE', 0.0, 100.0, 81.18006593963987),\n",
       " ('FFF', 0.0, 100.0, 77.70759006007047),\n",
       " ('GGG', 0.0, 100.0, 79.70049293460401)]"
      ]
     },
     "execution_count": 118,
     "metadata": {},
     "output_type": "execute_result"
    }
   ],
   "source": [
    "# keys to match for assessments and student_assessments is id_assessment; student_assessment contains score; assessments\n",
    "# contains code_module\n",
    "\n",
    "c.execute(\"\"\"\n",
    "        SELECT \n",
    "        assessments.code_module,\n",
    "        MIN(score), MAX(score), AVG(score)\n",
    "        FROM student_assessments\n",
    "        LEFT JOIN\n",
    "        assessments\n",
    "        ON student_assessments.id_assessment = assessments.id_assessment\n",
    "        GROUP BY assessments.code_module;\n",
    "        \"\"\").fetchall()"
   ]
  },
  {
   "cell_type": "code",
   "execution_count": null,
   "metadata": {},
   "outputs": [],
   "source": []
  },
  {
   "cell_type": "code",
   "execution_count": null,
   "metadata": {},
   "outputs": [],
   "source": []
  },
  {
   "cell_type": "code",
   "execution_count": null,
   "metadata": {},
   "outputs": [],
   "source": []
  },
  {
   "cell_type": "markdown",
   "metadata": {},
   "source": [
    "### Non-Pandas Way"
   ]
  },
  {
   "cell_type": "code",
   "execution_count": 8,
   "metadata": {},
   "outputs": [],
   "source": [
    "# this works, but the pandas option is way better because you don't have to manually input column names\n",
    "\n",
    "# open in-memory database \n",
    "\n",
    "# con = sqlite3.connect(\":memory:\")\n",
    "# cur = con.cursor()\n",
    "# cur.execute(\"CREATE TABLE courses (code_module, code_presentation, module_presentation_length);\")\n",
    "\n",
    "# with open('data/courses.csv','rb') as fin:\n",
    "#     dr = csv.DictReader(fin)\n",
    "#     # dicts = ({'code_module': line[0], 'code_presentation': line[1], 'module_presentation_length': line[2]} for line in dr)\n",
    "#     to_db = ((i['code_module'], i['code_presentation'], i['module_presentation_length']) for i in dicts)\n",
    "\n",
    "# cur.executemany(\"INSERT INTO courses (code_module, code_presentation, module_presentation_length) VALUES (?, ?, ?);\", to_db)\n",
    "# con.commit()\n",
    "\n",
    "# import csv, sqlite3\n",
    "\n",
    "# con = sqlite3.connect(\":memory:\")\n",
    "# cur = con.cursor()\n",
    "# cur.execute(\"CREATE TABLE t (col1, col2);\") # use your column names here\n",
    "\n",
    "# with open('data.csv','rb') as fin: # `with` statement available in 2.5+\n",
    "#     # csv.DictReader uses first line in file for column headings by default\n",
    "#     dr = csv.DictReader(fin) # comma is default delimiter\n",
    "#     to_db = [(i['col1'], i['col2']) for i in dr]\n",
    "\n",
    "# cur.executemany(\"INSERT INTO t (col1, col2) VALUES (?, ?);\", to_db)\n",
    "# con.commit()\n",
    "# con.close()"
   ]
  },
  {
   "cell_type": "code",
   "execution_count": 6,
   "metadata": {},
   "outputs": [],
   "source": [
    "# con.close()"
   ]
  },
  {
   "cell_type": "code",
   "execution_count": 7,
   "metadata": {},
   "outputs": [],
   "source": [
    "# this code shows that the table courses has been created\n",
    "# cur.execute(\"SELECT name FROM sqlite_master WHERE type = 'table';\").fetchall()"
   ]
  },
  {
   "cell_type": "code",
   "execution_count": null,
   "metadata": {},
   "outputs": [],
   "source": []
  }
 ],
 "metadata": {
  "kernelspec": {
   "display_name": "Python 3",
   "language": "python",
   "name": "python3"
  },
  "language_info": {
   "codemirror_mode": {
    "name": "ipython",
    "version": 3
   },
   "file_extension": ".py",
   "mimetype": "text/x-python",
   "name": "python",
   "nbconvert_exporter": "python",
   "pygments_lexer": "ipython3",
   "version": "3.6.8"
  }
 },
 "nbformat": 4,
 "nbformat_minor": 2
}
